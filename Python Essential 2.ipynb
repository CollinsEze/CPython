{
 "cells": [
  {
   "cell_type": "markdown",
   "metadata": {},
   "source": [
    "# Python Programming: Essentials 2\n"
   ]
  },
  {
   "cell_type": "markdown",
   "metadata": {},
   "source": [
    "## While loop\n",
    "\n",
    "Repeat a block of code as long as a certain condition is true"
   ]
  },
  {
   "cell_type": "code",
   "execution_count": 42,
   "metadata": {},
   "outputs": [
    {
     "name": "stdout",
     "output_type": "stream",
     "text": [
      "1\n",
      "2\n",
      "3\n",
      "4\n",
      "5\n",
      "Done\n"
     ]
    }
   ],
   "source": [
    "# A simple while loop \n",
    "\n",
    "#initialisation\n",
    "counter = 1 \n",
    "\n",
    "while counter <= 5: #condition if the IF STATEMENT is true then run counter   # beginning of the loop\n",
    "    print(counter) # actions\n",
    "    counter += 1  # equivalent to counter = counter + 1\n",
    "    \n",
    "print('Done')\n",
    "\n",
    "# += -= /= *= **= %= //="
   ]
  },
  {
   "cell_type": "code",
   "execution_count": 43,
   "metadata": {},
   "outputs": [
    {
     "name": "stdout",
     "output_type": "stream",
     "text": [
      "5\n",
      "4\n",
      "3\n",
      "2\n",
      "1\n",
      "Done\n"
     ]
    }
   ],
   "source": [
    "# write the code to do the same thing but backwards from 5 to 1\n",
    "\n",
    "#initialisation\n",
    "counter = 5 \n",
    "\n",
    "while counter > 0: #condition if the IF STATEMENT is true then run counter   # beginning of the loop\n",
    "    print(counter) # actions\n",
    "    counter -= 1  # equivalent to counter = counter + 1\n",
    "    \n",
    "print('Done')\n"
   ]
  },
  {
   "cell_type": "code",
   "execution_count": 44,
   "metadata": {},
   "outputs": [
    {
     "name": "stdout",
     "output_type": "stream",
     "text": [
      "citsatnaf si nohtyP\n"
     ]
    }
   ],
   "source": [
    "# let's write code that takes a string and writes it backwards\n",
    "\n",
    "#initialisation\n",
    "sentence = \"Python is fantastic\"\n",
    "back_sentence = ''\n",
    "counter = len(sentence)-1\n",
    "\n",
    "while counter >=0:\n",
    "    back_sentence = back_sentence + sentence[counter]\n",
    "    counter -= 1\n",
    "    \n",
    "print(back_sentence)\n",
    "    \n",
    "# Advice: counter please at the bottom of the loop "
   ]
  },
  {
   "cell_type": "code",
   "execution_count": 45,
   "metadata": {},
   "outputs": [
    {
     "name": "stdout",
     "output_type": "stream",
     "text": [
      "n\n"
     ]
    }
   ],
   "source": [
    "Sentence = 'pairview'\n",
    "print((sentence[5]))"
   ]
  },
  {
   "cell_type": "code",
   "execution_count": 46,
   "metadata": {},
   "outputs": [
    {
     "name": "stdout",
     "output_type": "stream",
     "text": [
      "<class 'str'>\n"
     ]
    }
   ],
   "source": [
    "Sentence = \"pairview\"\n",
    "print(type(sentence[5]))"
   ]
  },
  {
   "cell_type": "code",
   "execution_count": 47,
   "metadata": {},
   "outputs": [
    {
     "name": "stdout",
     "output_type": "stream",
     "text": [
      "What's your message? monday\n",
      "monday\n",
      "What's your message? tuesday\n",
      "tuesday\n",
      "What's your message? quit\n",
      "quit\n"
     ]
    }
   ],
   "source": [
    "# Letting the user choose when to quit # this is a message you write on python until it gets to stop where you want it to use it.\n",
    "\n",
    "msg = ''\n",
    "while msg != 'quit': \n",
    "    msg = input(\"What's your message? \") \n",
    "    print(msg)\n",
    "    \n",
    " "
   ]
  },
  {
   "cell_type": "markdown",
   "metadata": {},
   "source": [
    "## Function\n",
    "\n",
    "Functions are named blocks of code, designed to do one specific job. \n",
    "\n",
    "Information passed to a function is called an argument\n",
    "\n",
    "Information received by a function is called a parameter"
   ]
  },
  {
   "cell_type": "code",
   "execution_count": 48,
   "metadata": {},
   "outputs": [],
   "source": [
    "# A simple function\n",
    "\n",
    "###### defining what the function does\n",
    "\n",
    "def greet_user():  # defining/ naming the function\n",
    "    \"\"\"Display a simple greeting.\"\"\" \n",
    "    nm= input('Enter your name: ')\n",
    "    print(\"Hello!\", nm)\n",
    "    "
   ]
  },
  {
   "cell_type": "code",
   "execution_count": 49,
   "metadata": {},
   "outputs": [
    {
     "name": "stdout",
     "output_type": "stream",
     "text": [
      "Enter your name: collins eze\n",
      "Hello! collins eze\n",
      "Enter your name: habiba rachel\n",
      "Hello! habiba rachel\n",
      "Enter your name: annika moreen\n",
      "Hello! annika moreen\n",
      "Enter your name: james jude\n",
      "Hello! james jude\n"
     ]
    }
   ],
   "source": [
    "##### testing of the function   \n",
    "\n",
    "greet_user() \n",
    "greet_user() \n",
    "greet_user() \n",
    "greet_user() "
   ]
  },
  {
   "cell_type": "code",
   "execution_count": 50,
   "metadata": {},
   "outputs": [],
   "source": [
    "# Passing an argument\n",
    "# explain here what the function does and what format the attribute must be:\n",
    "# greet_user2 prints a message addressed to the username, username is a string\n",
    "def greet_user2(username): \n",
    "    \"\"\"Display a personalized greeting.\"\"\" \n",
    "    print(\"Hello, \" + username + \"!\") \n",
    "    print(\"that's passing an argument to a function\")\n",
    "    # parameters are outside the function and attributes are within the function.\n",
    "    "
   ]
  },
  {
   "cell_type": "code",
   "execution_count": 51,
   "metadata": {},
   "outputs": [
    {
     "name": "stdout",
     "output_type": "stream",
     "text": [
      "Hello, Mamadou!\n",
      "that's passing an argument to a function\n",
      "Hello, Maria!\n",
      "that's passing an argument to a function\n"
     ]
    }
   ],
   "source": [
    "#Testing of the function\n",
    "\n",
    "greet_user2('Mamadou') # mamadu is the parameter and username is the attribute as it replaces username to mamadu.\n",
    "greet_user2('Maria')\n"
   ]
  },
  {
   "cell_type": "code",
   "execution_count": 52,
   "metadata": {},
   "outputs": [],
   "source": [
    "# write a function that takes a string and writes it backwards\n",
    "\n",
    "def backstring(sentence):\n",
    "    #initialisation\n",
    "    back_sentence = ''\n",
    "    counter = len(sentence)-1\n",
    "\n",
    "    while counter >=0:\n",
    "        back_sentence = back_sentence + sentence[counter]\n",
    "        counter -= 1\n",
    "    print(back_sentence)\n",
    "    "
   ]
  },
  {
   "cell_type": "code",
   "execution_count": 53,
   "metadata": {},
   "outputs": [
    {
     "name": "stdout",
     "output_type": "stream",
     "text": [
      "!yadirF s'ti doG knahT\n"
     ]
    }
   ],
   "source": [
    "# Testing the function\n",
    "backstring(\"Thank God it's Friday!\")"
   ]
  },
  {
   "cell_type": "code",
   "execution_count": 54,
   "metadata": {},
   "outputs": [
    {
     "name": "stdout",
     "output_type": "stream",
     "text": [
      "Thank God it's Friday!\n"
     ]
    }
   ],
   "source": [
    "backstring(\"!yadirF s'ti doG knahT\")"
   ]
  },
  {
   "cell_type": "code",
   "execution_count": 55,
   "metadata": {},
   "outputs": [],
   "source": [
    "# Default values for parameters \n",
    "\n",
    "def make_pizza(topping='pepperoni'):  # topping is the argunment and default value. if not entered(topping) then its pepperoni.\n",
    "    \"\"\"Make a single-topping pizza.\"\"\" \n",
    "    print(\"Have a \" + topping + \" pizza!\") \n",
    "  "
   ]
  },
  {
   "cell_type": "code",
   "execution_count": 56,
   "metadata": {},
   "outputs": [
    {
     "name": "stdout",
     "output_type": "stream",
     "text": [
      "Have a pepperoni pizza!\n"
     ]
    }
   ],
   "source": [
    "#testing the function    \n",
    "make_pizza() "
   ]
  },
  {
   "cell_type": "code",
   "execution_count": 57,
   "metadata": {},
   "outputs": [
    {
     "name": "stdout",
     "output_type": "stream",
     "text": [
      "Have a artichokes pizza!\n"
     ]
    }
   ],
   "source": [
    "make_pizza('artichokes') "
   ]
  },
  {
   "cell_type": "code",
   "execution_count": 58,
   "metadata": {},
   "outputs": [],
   "source": [
    "# Converter\n",
    "# Write a function that returns the inches equivalent to feet and yards\n",
    "\n",
    "def inches(x=0, y=0): # x is the number of feet and y the number of yards\n",
    "    result = x * 12 + y * 36\n",
    "    return result    # the defining function is the word return.\n"
   ]
  },
  {
   "cell_type": "code",
   "execution_count": 59,
   "metadata": {},
   "outputs": [
    {
     "name": "stdout",
     "output_type": "stream",
     "text": [
      "84\n"
     ]
    }
   ],
   "source": [
    "# testing 1\n",
    "length = inches(4,1)  #Always define the x & Y to be able to use the argument on pythong\n",
    "print(length)"
   ]
  },
  {
   "cell_type": "code",
   "execution_count": 60,
   "metadata": {},
   "outputs": [
    {
     "name": "stdout",
     "output_type": "stream",
     "text": [
      "48\n"
     ]
    }
   ],
   "source": [
    "# testing 2   # it assumes that x is 4 * 12 and y defaulted or assumeed to be 0\n",
    "length = inches(4)\n",
    "print(length)"
   ]
  },
  {
   "cell_type": "code",
   "execution_count": 61,
   "metadata": {},
   "outputs": [
    {
     "name": "stdout",
     "output_type": "stream",
     "text": [
      "108\n"
     ]
    }
   ],
   "source": [
    "# testing 3 # it picks x = 3 and y=2\n",
    "length = inches(3,2)\n",
    "print(length)"
   ]
  },
  {
   "cell_type": "markdown",
   "metadata": {},
   "source": [
    "## Class / Advanced\n",
    "\n",
    "A class defines the behavior of an object and the kind of information an object can store\n",
    "\n",
    "### methods\n",
    "The information in a class is stored in attributes, and functions that belong to a class are called methods\n",
    "\n",
    "A child class inherits the attributes and methods from its parent class   \n",
    "    "
   ]
  },
  {
   "cell_type": "code",
   "execution_count": 62,
   "metadata": {},
   "outputs": [],
   "source": [
    "# Creating a dog class    # dog is the object.               #example 1\n",
    "class Dog(): \n",
    "    \"\"\"Represents a dog\"\"\" \n",
    "    def __init__(self, name): \n",
    "        \"\"\"Initialize dog object\"\"\" \n",
    "        self.name = name \n",
    "    def sit(self):\n",
    "        \"\"\"Simulate sitting.\"\"\" \n",
    "        print(self.name + \" is sitting.\") "
   ]
  },
  {
   "cell_type": "code",
   "execution_count": 63,
   "metadata": {},
   "outputs": [],
   "source": [
    "# Creating a dog class    # dog is the object.               #example 2\n",
    "class car(): \n",
    "    \"\"\"Represents a car\"\"\" \n",
    "    def __init__(self, model, year, colour): \n",
    "        \"\"\"Initialize car object\"\"\" \n",
    "        self.model = model\n",
    "        self.year = year\n",
    "        self.colour = colour\n",
    "    def sell(self):\n",
    "        \"\"\"Simulate model.\"\"\" \n",
    "        print(self.model + \" is just £10,000.\") "
   ]
  },
  {
   "cell_type": "code",
   "execution_count": 64,
   "metadata": {},
   "outputs": [
    {
     "data": {
      "text/plain": [
       "'Silver'"
      ]
     },
     "execution_count": 64,
     "metadata": {},
     "output_type": "execute_result"
    }
   ],
   "source": [
    "my_car = car('Merc AMG', 2008,'Silver')\n",
    "my_car.colour"
   ]
  },
  {
   "cell_type": "code",
   "execution_count": 65,
   "metadata": {},
   "outputs": [
    {
     "name": "stdout",
     "output_type": "stream",
     "text": [
      "Merc AMG is just £10,000.\n"
     ]
    }
   ],
   "source": [
    "my_car.sell()"
   ]
  },
  {
   "cell_type": "code",
   "execution_count": 66,
   "metadata": {},
   "outputs": [
    {
     "name": "stdout",
     "output_type": "stream",
     "text": [
      "Peso is a great dog!\n",
      "Peso is sitting.\n"
     ]
    }
   ],
   "source": [
    "# creating 1 instance of the class\n",
    "my_dog = Dog('Peso') # initialisation\n",
    "# my_list = [1,2,3,4]\n",
    "\n",
    "print(my_dog.name + \" is a great dog!\") \n",
    "\n",
    "my_dog.sit()\n",
    "# very similiar my_list.append()"
   ]
  },
  {
   "cell_type": "code",
   "execution_count": 67,
   "metadata": {},
   "outputs": [],
   "source": [
    "# Inheritance \n",
    "class SARDog(Dog): \n",
    "    \"\"\"Represent a search dog.\"\"\" \n",
    "    def __init__(self, name): \n",
    "        \"\"\"Initialize the sardog.\"\"\" \n",
    "        super().__init__(name) \n",
    "        \n",
    "    def search(self): \n",
    "        \"\"\"Simulate searching\"\"\" \n",
    "        print(self.name + \" is searching\") "
   ]
  },
  {
   "cell_type": "code",
   "execution_count": 68,
   "metadata": {},
   "outputs": [
    {
     "name": "stdout",
     "output_type": "stream",
     "text": [
      "Willie is a search dog.\n",
      "Willie is sitting.\n",
      "Willie is searching\n"
     ]
    }
   ],
   "source": [
    "#instance \n",
    "my_dog = SARDog('Willie') \n",
    "print(my_dog.name + \" is a search dog.\") \n",
    "my_dog.sit() \n",
    "my_dog.search()"
   ]
  },
  {
   "cell_type": "markdown",
   "metadata": {},
   "source": [
    "## Files handling\n",
    "\n",
    "Your programs can read from files and write to files. \n",
    "\n",
    "Files are opened in read mode ('r') by default, \n",
    "but can also be opened in write mode ('w') \n",
    "and append mode ('a')"
   ]
  },
  {
   "cell_type": "code",
   "execution_count": 69,
   "metadata": {},
   "outputs": [
    {
     "name": "stdout",
     "output_type": "stream",
     "text": [
      "['I love programming in Python \\n', 'I like its clear code \\n', 'I like its class \\n', 'I love scraping in Python']\n",
      "['I love programming in Python', 'I like its clear code', 'I like its class', 'I love scraping in Python']\n"
     ]
    }
   ],
   "source": [
    "# saved a text file in a location\n",
    "# in windows explorer find the file / right click / properties / copy paste the directory address\n",
    "# then converted backslash  into forward slash\n",
    "# Reading a file and storing its lines \n",
    "filename = 'C:/Users/Colli/Desktop/Python New Training/todaycityam.txt'\n",
    "# remember to change the \\\\(backslash) to //(fwd slash)\n",
    "# director address copied below\n",
    "#C:/Users/Pairview Ltd/Desktop/\n",
    "# r strip means from the right and l.strip means left strip\n",
    "\n",
    "#create an empty list as initialisation\n",
    "final_lines=[]\n",
    "\n",
    "with open(filename) as file_object: # opens the file\n",
    "    lines = file_object.readlines()  # reads the files lines (collection of lines)\n",
    "    print(lines)\n",
    "    for line in lines: # reading the lines one by one\n",
    "        line = line.rstrip() # removes the new line \\n\n",
    "        # print(line) \n",
    "        final_lines.append(line)\n",
    "        \n",
    "print(final_lines)"
   ]
  },
  {
   "cell_type": "code",
   "execution_count": 3,
   "metadata": {},
   "outputs": [],
   "source": [
    "# function\n",
    "# saved a text file in a location\n",
    "# in windows epxlorer found the file / right click / properties / copied the directory address\n",
    "# then converted backslash  into forward slash\n",
    "# Reading a file and storing its lines \n",
    "\n",
    "def readtextfile(filename):\n",
    "    linelist=[]\n",
    "    with open(filename) as file_object: # opens the file\n",
    "        lines = file_object.readlines()  # reads the files lines (collection of lines)\n",
    "        for line in lines: # reading the lines one by one\n",
    "            line =line.rstrip() # removes the new line \n",
    "            linelist.append(line) \n",
    "    return linelist        \n",
    "            "
   ]
  },
  {
   "cell_type": "code",
   "execution_count": 4,
   "metadata": {},
   "outputs": [
    {
     "name": "stdout",
     "output_type": "stream",
     "text": [
      "[\"Trump insists he has 'absolute right' to use emergency powers over wall\", \"Debenhams' share price plunges 18 per cent following shock boardroom coup\", \"Brexit 'likely to be delayed beyond 29 March'\", 'Haymarket profits fall as it eyes up e-commerce push', 'CITY AM']\n",
      "[\"Trump insists he has 'absolute right' to use emergency powers over wall\", \"Debenhams' share price plunges 18 per cent following shock boardroom coup\", \"Brexit 'likely to be delayed beyond 29 March'\", 'Haymarket profits fall as it eyes up e-commerce push', 'CITY AM']\n"
     ]
    }
   ],
   "source": [
    "# Testing\n",
    "file = 'C:/Users/Colli/Desktop/Python New Training/todaycityam.txt' \n",
    "print(readtextfile(file))\n",
    "print(readtextfile('C:/Users/Colli/Desktop/Python New Training/todaycityam.txt' ))\n"
   ]
  },
  {
   "cell_type": "code",
   "execution_count": 5,
   "metadata": {},
   "outputs": [],
   "source": [
    "# Writing to a file\n",
    "\n",
    "filename = 'C:/Users/Colli/Desktop/Python New Training/todaycityam.txt' \n",
    "with open(filename, 'w') as file_object: # the 'w' means overwrite\n",
    "    file_object.write(\"I love programming in Python \\nI like its clear code \\nI like its class \\nI love scraping in Python\")\n",
    "# \\n back slash n is a new line = return or enter on your keyboard    "
   ]
  },
  {
   "cell_type": "code",
   "execution_count": 6,
   "metadata": {},
   "outputs": [],
   "source": [
    "# Appending to a file\n",
    "\n",
    "filename = 'C:/Users/Colli/Desktop/Python New Training/the_python_song.txt' \n",
    "with open(filename, 'a') as file_object: # the 'a' means append\n",
    "    file_object.write(\"\\nAnd I want to use it for Machine Learning\")\n",
    "    \n",
    "    "
   ]
  },
  {
   "cell_type": "code",
   "execution_count": 7,
   "metadata": {},
   "outputs": [
    {
     "name": "stdout",
     "output_type": "stream",
     "text": [
      "39\n"
     ]
    }
   ],
   "source": [
    "# Aside about dates\n",
    "from datetime import date # super dupper library dealing wth everything date and time\n",
    "# date stackoverflow to know how to use date manipulation.   #datetime is not used as default\n",
    "d0 = date(2008, 8, 18)  # date time is done with yy/mm/dd\n",
    "d1 = date(2008, 9, 26)\n",
    "delta = d1 - d0\n",
    "print(delta.days)"
   ]
  },
  {
   "cell_type": "code",
   "execution_count": null,
   "metadata": {},
   "outputs": [],
   "source": [
    "import json\n",
    "\n",
    "data={\n",
    "    'name': 'ACME',\n",
    "    'shares' : 100,\n",
    "    'price': 542.23\n",
    "}\n",
    "\n",
    "# Writing JSON data\n",
    "with open ('C:/Users/Pairview Ltd/Desktop/data.json', 'w') as f:\n",
    "    json.dump(data,f)"
   ]
  },
  {
   "cell_type": "code",
   "execution_count": null,
   "metadata": {},
   "outputs": [],
   "source": [
    "    \n",
    "# Reading data back\n",
    "with open('C:/Users/Pairview Ltd/Desktop/data.json', 'r') as f:\n",
    "     data = json.load(f)\n",
    "    \n",
    "print(data.keys())"
   ]
  },
  {
   "cell_type": "code",
   "execution_count": null,
   "metadata": {},
   "outputs": [],
   "source": [
    "# Research SQLite\n",
    "\n",
    "\n",
    "####\n",
    "\n",
    "# there is a module for accessing Microsoft SQL / Complex matter\n",
    "import pyodbc \n",
    "cnxn = pyodbc.connect(\"Driver={SQL Server Native Client 11.0};\"\n",
    "                      \"Server=server_name;\"\n",
    "                      \"Database=db_name;\"\n",
    "                      \"Trusted_Connection=yes;\")\n",
    "\n",
    "\n",
    "cursor = cnxn.cursor()\n",
    "cursor.execute('SELECT * FROM Table')\n",
    "\n",
    "for row in cursor:\n",
    "    print('row = %r' % (row,))"
   ]
  },
  {
   "cell_type": "markdown",
   "metadata": {},
   "source": [
    "## Exceptions\n",
    "\n",
    "They help you respond appropriately to errors that are likely to occur.\n",
    "\n",
    "You place code that might cause an error in the try block. \n",
    "\n",
    "Code that should run in response to an error goes in the except block. \n",
    "\n",
    "Code that should run only if the try block was successful goes in the else block. "
   ]
  },
  {
   "cell_type": "code",
   "execution_count": 8,
   "metadata": {},
   "outputs": [
    {
     "name": "stdout",
     "output_type": "stream",
     "text": [
      "How many tickets do you need? 12\n",
      "Your tickets are printing.\n"
     ]
    }
   ],
   "source": [
    "# Catching an exception when trying to convert an input\n",
    "prompt = \"How many tickets do you need? \" \n",
    "num_tickets = input(prompt) \n",
    "\n",
    "try: \n",
    "    num_tickets = int(num_tickets)\n",
    "\n",
    "except ValueError: \n",
    "    print(\"Please try again.\") \n",
    "\n",
    "else: print(\"Your tickets are printing.\")\n",
    "    \n",
    "    "
   ]
  },
  {
   "cell_type": "code",
   "execution_count": 9,
   "metadata": {},
   "outputs": [
    {
     "name": "stdout",
     "output_type": "stream",
     "text": [
      "How many tickets do you need? two\n",
      "Please try again.\n",
      "How many tickets do you need? three\n",
      "Please try again.\n",
      "How many tickets do you need? 3\n",
      "Your tickets are printing.\n"
     ]
    }
   ],
   "source": [
    "# Prompt the user until she gives me a legit number\n",
    "test = False\n",
    "\n",
    "while test == False:\n",
    "    prompt = \"How many tickets do you need? \" \n",
    "    num_tickets = input(prompt) \n",
    "    try: \n",
    "        num_tickets = int(num_tickets) #big test of conversation\n",
    "    except ValueError: \n",
    "        print(\"Please try again.\") \n",
    "        test = False\n",
    "    else: \n",
    "        print(\"Your tickets are printing.\")\n",
    "        test = True\n"
   ]
  },
  {
   "cell_type": "code",
   "execution_count": 11,
   "metadata": {},
   "outputs": [
    {
     "name": "stdout",
     "output_type": "stream",
     "text": [
      "File path requestedC:/Users/Colli/Desktop/Python New Training/todaycityam.txt\n",
      "I have your file\n",
      "File path requestedC:/Users/Colli/Desktop/Python New Training/todaycityam.txt\n",
      "I have your file\n",
      "File path requestedC:/Users/Colli/Desktop/todaycityam.txt\n",
      "please try again\n"
     ]
    }
   ],
   "source": [
    "# Write code to try to open a file in a while loop until we get it right\n",
    "# Prompt the user until she gives me a legit number\n",
    "\n",
    "test = False\n",
    "while test == False:\n",
    "    prompt = \"File path requested\"\n",
    "    file = input(prompt)\n",
    "    try:\n",
    "        readtextfile(file)\n",
    "    except IOError:\n",
    "        print('please try again')\n",
    "        test = True\n",
    "    else:\n",
    "        print(\"I have your file\")\n",
    "        test = False\n",
    "\n",
    "        \n",
    "#'C:/Users/Pairview Ltd/Desktop/todaycityam.txt' "
   ]
  },
  {
   "cell_type": "code",
   "execution_count": 12,
   "metadata": {},
   "outputs": [
    {
     "name": "stdout",
     "output_type": "stream",
     "text": [
      "File path requestedwww.yahoo.com\n",
      "please try again\n"
     ]
    }
   ],
   "source": [
    "# Write code to try to open a file in a while loop until we get it right\n",
    "# Prompt the user until she gives me a legit number\n",
    "\n",
    "test = True\n",
    "while test == True:\n",
    "    prompt = \"File path requested\"\n",
    "    file = input(prompt)\n",
    "    try:\n",
    "        readtextfile(file)\n",
    "    except IOError:\n",
    "        print('please try again')\n",
    "        test = False\n",
    "    else:\n",
    "        print(\"I have your file\")\n",
    "        test = False\n"
   ]
  },
  {
   "cell_type": "markdown",
   "metadata": {},
   "source": [
    "# Web Scraping\n",
    "\n",
    "# HTML quick overview\n",
    "<!DOCTYPE html>  \n",
    "<html>  \n",
    "    <head>\n",
    "    </head>\n",
    "    <body>\n",
    "        <h1> First Scraping </h1>\n",
    "        <p> Hello World </p>\n",
    "    <body>\n",
    "</html>\n"
   ]
  },
  {
   "cell_type": "markdown",
   "metadata": {},
   "source": [
    "# Scraping Rules\n",
    "\n",
    "You should check a website’s Terms and Conditions before you scrape it. Be careful to read the statements about legal use of data. Usually, the data you scrape should not be used for commercial purposes.\n",
    "\n",
    "Do not request data from the website too aggressively with your program (also known as spamming), as this may break the website. Make sure your program behaves in a reasonable manner (i.e. acts like a human). One request for one webpage per second is good practice.\n",
    "\n",
    "The layout of a website may change from time to time, so make sure to revisit the site and rewrite your code as needed"
   ]
  },
  {
   "cell_type": "code",
   "execution_count": 13,
   "metadata": {},
   "outputs": [],
   "source": [
    "# import libraries   # library.request and # beautiful.soup are two ways to use on the website.\n",
    "import urllib.request\n",
    "from bs4 import BeautifulSoup\n",
    "\n",
    "# specify the url\n",
    "html_page = \"https://www.dailymail.co.uk/home/index.html\"\n",
    "        \n",
    "# query the website and return the html to the variable ‘page’\n",
    "page = urllib.request.urlopen(html_page)\n",
    "\n",
    "# parse the html using beautiful soup and store in variable `soup`\n",
    "soup = BeautifulSoup(page, \"html.parser\")"
   ]
  },
  {
   "cell_type": "markdown",
   "metadata": {},
   "source": [
    "go to the html / tools / developper then right click on object or text you want, select inspect and the object in the html will highlight.  Righ click on the html highlight then copy/copy element and past it below \n",
    "paste here\n"
   ]
  },
  {
   "cell_type": "code",
   "execution_count": 15,
   "metadata": {},
   "outputs": [
    {
     "name": "stdout",
     "output_type": "stream",
     "text": [
      "[<h2 class=\"linkro-darkred\">\n",
      "<a href=\"/news/article-6581257/Couple-raffled-3million-riverside-home-change-prize-110-000.html\" itemprop=\"url\">Here's what you could have won! Fury as winner of raffle for couple's £3m home are told they WON'T get the house because not enough tickets were sold (but they will get £110,000 cash instead)</a>\n",
      "</h2>, <h2 class=\"linkro-darkred\">\n",
      "<a href=\"/news/article-6581511/Police-slammed-showing-CCTV-smartly-dressed-pickpocket-preying-elderly-Waitrose-shoppe.html\">Police are slammed for showing CCTV of smartly-dressed pickpocket preying on elderly Waitrose shopper... but protect crook's identity by BLURRING his face</a>\n",
      "</h2>, <h2 class=\"linkro-darkred\">\n",
      "<a href=\"/femail/article-6580785/Meghan-stressed-new-role-duchess-Harry-feels-responsible.html\" itemprop=\"url\">Protective Harry feels 'responsible' for Meghan's 'unhappiness' over a stream of negative rumours - after witnessing his late mother endure the same before her death</a>\n",
      "</h2>, <h2 class=\"linkro-darkred\">\n",
      "<a href=\"/money/bills/article-6577623/Britains-burglary-hotspots-revealed-B95-postcode-topping-charts.html\" itemprop=\"url\">Britain's burglary hotspots revealed: Henley-in-Arden residents make the most insurance claims - so does your town feature?</a>\n",
      "</h2>, <h2 class=\"linkro-darkred\">\n",
      "<a href=\"/news/article-6581531/Charity-worker-28-died-head-hit-tree-branch-train-window.html\" itemprop=\"url\">Charity worker, 28, died of head injury from leaning out of train and hitting tree branch at 85mph after ignoring 'do not lean out of window' warning sticker</a>\n",
      "</h2>, <h2 class=\"linkro-darkred\">\n",
      "<a href=\"/money/cars/article-6578427/Are-smart-motorway-speed-cameras-operating-times-70mph.html\" itemprop=\"url\">Are smart motorways catching speeders at ALL TIMES? Social media rumours claim that cameras on M1 and M25 are now set to 70mph speed limit</a>\n",
      "</h2>, <h2 class=\"linkro-darkred\">\n",
      "<a href=\"/news/article-6580723/Jeremy-Hunt-admits-MPs-not-allow-no-deal-Amber-Rudd-hints-QUIT.html\" itemprop=\"url\">'No Brexit is in sight': Hunt warns Tory Eurosceptics that Parliament will NOT allow Britain to crash out of the EU if May's deal is rejected as Rudd hints she could QUIT</a>\n",
      "</h2>, <h2 class=\"linkro-darkred\">\n",
      "<a href=\"/news/article-6581203/Up-4-000-civil-servants-shift-focus-no-deal-Brexit.html\" itemprop=\"url\">Whitehall mobilises for no-deal Brexit: Up to 4,000 civil servants shift to focus on minimising border chaos as plans are ramped up for crashing out of the EU in March</a>\n",
      "</h2>, <h2 class=\"linkro-darkred\">\n",
      "<a href=\"/news/article-6581093/Economic-slowdown-continues-Brexit-day-nears.html\" itemprop=\"url\">Economic slowdown continues as Brexit day nears as manufacturing of cars and medicines plunge </a>\n",
      "</h2>, <h2 class=\"linkro-darkred\">\n",
      "<a href=\"/news/article-6581813/Andy-Murray-posts-emotional-selfie-mother-Judy.html\">'Best thing after a tough day is a big cuddle with your mum': Andy Murray posts selfie with Judy as he thanks fans for dubbing him 'Britain's greatest sportsman' after tearful retirement announcement</a>\n",
      "</h2>, <h2 class=\"linkro-darkred\">\n",
      "<a href=\"/news/article-6581805/TalkSport-host-Alan-Brazil-branded-caveman-slamming-Andy-Murrays-tears.html\" itemprop=\"url\">'I don't do BLUBBING!': TalkSport host Alan Brazil is branded a 'caveman' for slamming Andy Murray's tearful retirement speech</a>\n",
      "</h2>, <h2 class=\"linkro-darkred\">\n",
      "<a href=\"/femail/article-6575971/Mothers-revealed-best-cleaning-hacks-theyve-found.html\" itemprop=\"url\">From using pain killers on irons to 'strip washing' EVERYTHING: Mothers reveal the amazing DIY cleaning hacks they've discovered in 2019 so far</a>\n",
      "</h2>, <h2 class=\"linkro-darkred\">\n",
      "<a href=\"/femail/article-6580821/Celebrity-chauffeurs-reveal-secrets-driving-high-society.html\" itemprop=\"url\">Celebrity chauffeurs reveal the outrageous demands of their high society clients - including procuring a 'transvestite prostitute', picking up 27 bottles of hair removal cream and facilitating drug deals </a>\n",
      "</h2>, <h2 class=\"linkro-darkred\">\n",
      "<a href=\"/news/article-6581933/Man-24-person-UK-convicted-paying-sex-loses-appeal.html\" itemprop=\"url\">Man, 24, who became first person in UK to be convicted for paying for sex will serve three months in jail after losing his appeal</a>\n",
      "</h2>, <h2 class=\"linkro-darkred\">\n",
      "<a href=\"/news/article-6581969/Heartbreaking-moment-Jack-Russell-stolen-young-boy.html\">Heartbreaking moment little boy desperately chases thief who grabs his Jack Russell puppy while they are out for a walk - then brazenly flees with her in his arms</a>\n",
      "</h2>, <h2 class=\"linkro-darkred\">\n",
      "<a href=\"/health/article-6517021/Expert-warns-diets-contributing-Britains-obesity-epidemic.html\" itemprop=\"url\">Are diets making you FATTER? Expert warns regimes are a 'waste of time' and are contributing to Britain's obesity epidemic</a>\n",
      "</h2>, <h2 class=\"linkro-darkred\">\n",
      "<a href=\"/news/article-6578249/New-speed-cameras-snare-drivers-phone-eating-smoking.html\" itemprop=\"url\">The 'Yellow Vultures' have landed! New LED speed cameras that snare drivers on phone, eating or smoking at wheel are now looming over roads in Britain</a>\n",
      "</h2>, <h2 class=\"linkro-darkred\">\n",
      "<a href=\"/news/article-6580947/Troops-rescue-people-trapped-homes-Germany-amid-warnings-snow-continue.html\" itemprop=\"url\">Avalanche bursts through Swiss hotel restaurant while guests are eating: Three injured and 25 cars buried under 1,000ft wall of snow as police search for 'missing' and forecasters warn Europe's whiteout will last well into next week</a>\n",
      "</h2>, <h2 class=\"linkro-darkred\">\n",
      "<a href=\"/news/article-6581397/Beast-East-set-sweep-Britain-fortnight-frozen-Europe-shivers.html\" itemprop=\"url\">Siberian snow blast could hit THIS MONTH! Beast from the East is set to sweep Britain in a fortnight as frozen Europe shivers in -24C temperatures</a>\n",
      "</h2>, <h2 class=\"linkro-darkred\">\n",
      "<a href=\"/tvshowbiz/article-6581567/Piers-Morgan-apologises-not-dying-hospital-snap.html\" itemprop=\"url\">'Bad news, I'm not dying': Piers Morgan makes playful reference about his ailing health as he shares shock picture of himself from hospital bed</a>\n",
      "</h2>, <h2 class=\"linkro-darkred\">\n",
      "<a href=\"/news/article-6581429/Fiancee-unanswered-questions-death-boyfriend-32.html\" itemprop=\"url\">Family's agony after man, 32, was run over and killed by Volkswagen as he was having 'road rage' row in layby with van driver </a>\n",
      "</h2>, <h2 class=\"linkro-darkred\">\n",
      "<a href=\"/news/article-6581815/Seven-dead-bus-carrying-tourists-including-Britons-crashes-Cuba.html\" itemprop=\"url\">Seven dead and at least five injured after bus carrying tourists 'including Britons' crashes in Cuba </a>\n",
      "</h2>, <h2 class=\"linkro-darkred\">\n",
      "<a href=\"/news/article-6580527/Ex-BBC-Radio-1-star-Dianne-Oxberry-dies-short-illness-aged-51.html\">Heartbroken BBC colleague of former Radio 1 star Dianne Oxberry breaks down live on air as he pays tribute to mother-of-two after she dies of cancer aged 51</a>\n",
      "</h2>, <h2 class=\"linkro-darkred\">\n",
      "<a href=\"/news/article-6581461/Family-girl-9-death-linked-air-pollution-apply-new-inquest.html\" itemprop=\"url\">Family who believe girl, nine, was killed by illegal levels of air pollution from heavy traffic win right to new inquest</a>\n",
      "</h2>, <h2 class=\"linkro-darkred\">\n",
      "<a href=\"/news/article-6581247/Woman-25-says-batteries-brand-new-vibrator-exploded.html\" itemprop=\"url\">'I could have been blinded by a £4 sex toy': Woman, 25, says batteries in her brand new vibrator exploded and scorched her jumper </a>\n",
      "</h2>, <h2 class=\"linkro-darkred\">\n",
      "<a href=\"/news/article-6581007/Robbie-Williams-mocks-neighbour-Jimmy-Page-dressing-Led-Zeppelin-stars-bandmate.html\" itemprop=\"url\">Robbie Williams 'mocks neighbour Jimmy Page by dressing up as Led Zeppelin star's bandmate Robert Plant and playing rival rock music through outside loudspeakers' claims local</a>\n",
      "</h2>, <h2 class=\"linkro-darkred\">\n",
      "<a href=\"/sciencetech/article-6579515/Scientists-warn-Earths-magnetic-North-Pole-begun-moving-erratically-speeds-50km-year.html\" itemprop=\"url\">Scientists warn Earth's magnetic North Pole has begun moving 'erratically' at speeds so fast they are having to issue an emergency update to maps used by electronic navigation systems</a>\n",
      "</h2>, <h2 class=\"linkro-darkred\">\n",
      "<a href=\"/news/article-6580069/Formula-One-Racing-Champ-Lewis-Hamilton-snaps-Manhattan-penthouse.html\" itemprop=\"url\">Perfect for life in the fast lane! Lewis Hamilton snaps up stunning Manhattan penthouse for a cool $40million</a>\n",
      "</h2>, <h2 class=\"linkro-darkred\">\n",
      "<a href=\"/sciencetech/article-6581117/Scientists-hint-close-capturing-images-black-hole.html\" itemprop=\"url\">First EVER sighting of a black hole in the Milky Way may have been found: Image of the object would become 'one of the most iconic' ever created by scientists, say researchers </a>\n",
      "</h2>, <h2 class=\"linkro-darkred\">\n",
      "<a href=\"/news/article-6580961/David-Beckhams-former-brother-law-jailed-boiler-room-scam.html\" itemprop=\"url\">David Beckham's former brother-in-law who helped run £810,000 'boiler room' scam to con vulnerable people out of their savings is jailed for nearly three years</a>\n",
      "</h2>, <h2 class=\"linkro-darkred\">\n",
      "<a href=\"/news/article-6580621/Question-Time-viewers-wild-Woman-Yellow-Jacket.html\">Revealed: Question Time's 'Woman in Yellow Jacket' - whose speech urging Britain to 'get over feeling sorry for Theresa May' sent Twitter into meltdown - is a former crown court judge who works as adviser to MPs</a>\n",
      "</h2>, <h2 class=\"linkro-darkred\">\n",
      "<a href=\"/news/article-6579059/Heading-make-Question-Times-Fiona-Bruce-makes-debut-shows-female-host.html\" itemprop=\"url\">'She's had 15 years of greedy vase-owners... and now she's off the f***ing leash': Question Time viewers heap praise on new host Fiona Bruce for 'clobbering waffling MPs' on debut show</a>\n",
      "</h2>, <h2 class=\"linkro-darkred\">\n",
      "<a href=\"/tvshowbiz/article-6580003/JIM-SHELLEY-reviews-Fiona-Bruces-Question-Time.html\" itemprop=\"url\">Too safe, polite, and generally 'lovely', like Jodie Whittaker in Doctor Who, the choice of Fiona Bruce was not a cop-out on Question Time, by JIM SHELLEY</a>\n",
      "</h2>, <h2 class=\"linkro-darkred\">\n",
      "<a href=\"/femail/article-6577423/Lidls-luxury-organic-cotton-bed-linen-looks-exactly-like-White-Companys-400-cheaper.html\" itemprop=\"url\">Lidl launches luxury £25 bed linen that looks almost IDENTICAL to The White Company's £450 sheets - but can you tell which one is the designer set?</a>\n",
      "</h2>, <h2 class=\"linkro-darkred\">\n",
      "<a href=\"/femail/article-6581343/How-Meghan-uses-breathing-technique-clever-trick-stay-calm.html\" itemprop=\"url\">'Just breathe and have that inner confidence': Meghan opens up about the techniques she used to feel self-assured as she negotiated her big transition from actress to Duchess </a>\n",
      "</h2>, <h2 class=\"linkro-darkred\">\n",
      "<a href=\"/news/article-6580735/Paul-Hollywoods-estranged-wife-Alex-struggling-cope-death-pilot-brother.html\" itemprop=\"url\">Paul Hollywood's estranged wife Alex 'is struggling to cope' with death of her pilot brother in Spanish plane crash</a>\n",
      "</h2>, <h2 class=\"linkro-darkred\">\n",
      "<a href=\"/tvshowbiz/article-6580695/Dwayne-Rock-Johnson-SLAMS-snowflake-generation-says-theyre-putting-back.html\" itemprop=\"url\">Dwayne 'The Rock' Johnson slams Britain's 'snowflake generation' - insisting their 'easily offended' ways are 'putting us backwards' </a>\n",
      "</h2>, <h2 class=\"linkro-darkred\">\n",
      "<a href=\"/news/article-6581233/Canada-emerges-potential-new-home-Saudi-refugee-despite-Australias-willingness-fast-track-application.html\" itemprop=\"url\">Death threats target Saudi refugee as Canada emerges as her potential new home despite Australia's willingness to fast-track her application </a>\n",
      "</h2>, <h2 class=\"linkro-darkred\">\n",
      "<a href=\"/news/article-6580777/Tesco-shoppers-shove-way-fling-items-baskets-discount-frenzy.html\">Supermarket scramble! Tesco shoppers shove each other out of the way and fling cut-price items into their baskets in discount food frenzy </a>\n",
      "</h2>, <h2 class=\"linkro-darkred\">\n",
      "<a href=\"/news/article-6555009/Pedophile-Gary-Oliva-confesses-killing-JonBen-t-Ramsey-accident.html\" itemprop=\"url\">'I killed JonBenét Ramsey': Convicted paedophile confesses to murder of six-year-old US pageant princess in jail letters to his friend - claiming it was 'an accident'</a>\n",
      "</h2>, <h2 class=\"linkro-darkred\">\n",
      "<a href=\"/news/article-6579073/Police-warn-public-not-approach-missing-12-year-old-schoolboy-vanished-Christmas.html\" itemprop=\"url\">Mystery surrounds missing 12-year-old boy who police warned public not to approach as he's 'seen in the last week' after disappearing before Christmas</a>\n",
      "</h2>, <h2 class=\"linkro-darkred\">\n",
      "<a href=\"/news/article-6579705/Boris-Johnson-54-spends-New-Year-Greece-new-ex-Tory-aide-girlfriend-30.html\" itemprop=\"url\">Revealed: Boris Johnson, 54, spent New Year with his new ex-Tory aide girlfriend, 30, in the Greek villa he took his children just months earlier </a>\n",
      "</h2>, <h2 class=\"linkro-darkred\">\n",
      "<a href=\"/news/article-6580015/Gold-Logie-winning-actor-Craig-McLachlan-charged-eight-counts-indecent-assault.html\" itemprop=\"url\">Former Neighbours star Craig McLachlan is charged with eight counts of indecent assault for 'abusing and harassing' women from the Rocky Horror Show</a>\n",
      "</h2>, <h2 class=\"linkro-darkred\">\n",
      "<a href=\"/tvshowbiz/article-6579389/Louise-Redknapp-rushed-hospital-face-injuries-wrist-fracture-fall-street.html\" itemprop=\"url\">Louise Redknapp shares picture of her bloodied face after receiving 10 stitches and fracturing her wrist from 'nasty' fall in the street - forcing her to pull out of West End musical 9 To 5</a>\n",
      "</h2>, <h2 class=\"linkro-darkred\">\n",
      "<a href=\"/femail/article-6581329/How-millennial-employees-GHOSTING-bosses-quitting-jobs-without-notice.html\" itemprop=\"url\">How millennial employees are GHOSTING bosses by quitting jobs without notice - as experts warn the rise of 'faceless' online interactions means it's only going to get WORSE</a>\n",
      "</h2>, <h2 class=\"linkro-darkred\">\n",
      "<a href=\"/news/article-6581807/Former-beauty-queen-teacher-dies-hit-4x4.html\" itemprop=\"url\">Former beauty queen teacher dies after being hit by 4x4 in car crash which also injured girl, six, near school</a>\n",
      "</h2>, <h2 class=\"linkro-darkred\">\n",
      "<a href=\"/news/article-6581101/Single-mums-win-High-Court-battle-Government-Universal-Credit-payments.html\" itemprop=\"url\">Single mothers win High Court battle with Government after 'irregular' Universal Credit payments forced them to turn down jobs and use food banks</a>\n",
      "</h2>, <h2 class=\"linkro-darkred\">\n",
      "<a href=\"/news/article-6581107/Rudd-hints-end-benefit-freeze-unveils-universal-credit-reforms.html\" itemprop=\"url\">Amber Rudd hints at end to benefit freeze as she unveils overhaul to flagship universal credit reforms</a>\n",
      "</h2>, <h2 class=\"linkro-darkred\">\n",
      "<a href=\"/news/article-6581157/The-EU-working-thrash-clarifications-Brexit-deal.html\" itemprop=\"url\">'No deal Brexit would be a catastrophe': Juncker warning as he reveals EU is working with May to thrash out 'clarifications' on her deal before crunch Commons vote</a>\n",
      "</h2>, <h2 class=\"linkro-darkred\">\n",
      "<a href=\"/debate/article-6579945/RICHARD-LITTLEJOHN-Sorry-folks-mention-B-word.html\" itemprop=\"url\">RICHARD LITTLEJOHN: Sorry folks, but I have to mention the B-word (and it might not be quite what you expect) </a>\n",
      "</h2>, <h2 class=\"linkro-darkred\">\n",
      "<a href=\"/news/article-6579325/Leak-reveals-fury-ministers-manoeuvring-leadership-fights-save-Brexit-deal.html\" itemprop=\"url\">Secret Number 10 memo damns plotters: Leak reveals May fury at ministers manoeuvring for leadership as she fights to save Brexit deal</a>\n",
      "</h2>, <h2 class=\"linkro-darkred\">\n",
      "<a href=\"/news/article-6579833/No-deal-Brexit-cause-GDP-shrink-8-cent.html\" itemprop=\"url\">No-deal Brexit would cause GDP to shrink by up to 8 per cent and put thousands of jobs at risks, CBI boss warns</a>\n",
      "</h2>, <h2 class=\"linkro-darkred\">\n",
      "<a href=\"/sciencetech/article-6581213/Gamblers-predicted-Brexit-traders-referendum-night-study-finds.html\" itemprop=\"url\">Fancy a flutter? Punters predicted 'Leave' result of Brexit before the professionals did and created a golden hour for traders to take advantage</a>\n",
      "</h2>, <h2 class=\"linkro-darkred\">\n",
      "<a href=\"/news/article-6577797/Jeff-Bezos-gushing-text-messages-TV-anchor-having-affair-with.html\" itemprop=\"url\">Revealed: The shirtless selfies, lewd photo and lusty texts Jeff Bezos sent his married mistress - as it emerges the pair hooked up in hotels, private jets and BOTH their marital homes for months before he announced his divorce</a>\n",
      "</h2>, <h2 class=\"linkro-darkred\">\n",
      "<a href=\"/femail/article-6577167/JANET-STREET-PORTER-Mackenzie-Bezos-acquire-man-doesnt-plan-world-domination-first.html\" itemprop=\"url\">JANET STREET-PORTER: With all the money in the world, the first thing Mackenzie Bezos should acquire is a man who doesn't always put himself (and his plan for world domination) first </a>\n",
      "</h2>, <h2 class=\"linkro-darkred\">\n",
      "<a href=\"/news/article-6579267/Lauren-Sanchezs-husband-seen-time-news-broke-affair-Jeff-Bezos.html\" itemprop=\"url\">Superagent husband of Jeff Bezos' lover is seen leaving his Beverly Hills mansion as friends say he and his wife are still close and were even spotted huddling together at the Amazon Golden Globes party Sunday</a>\n",
      "</h2>, <h2 class=\"linkro-darkred\">\n",
      "<a href=\"/news/article-6578631/How-Lauren-Sanchez-went-morning-news-host-Jeff-Bezos-girlfriend.html\" itemprop=\"url\">From morning news anchor and reality TV show host to girlfriend of the world's richest man: How Lauren Sanchez launched a successful Hollywood career and tied the knot in front of Matt Damon and Ben Affleck before falling for the Amazon CEO</a>\n",
      "</h2>, <h2 class=\"linkro-darkred\">\n",
      "<a href=\"/news/article-6578517/Twitter-mocks-Jeff-Bezos-text-messages-Lauren-Sanchez.html\" itemprop=\"url\">'Yuck, Alexa, make it stop!' Twitter mocks Jeff Bezos for the text messages he sent married TV anchor he was 'having an affair with' before his divorce was made public</a>\n",
      "</h2>, <h2 class=\"linkro-darkred\">\n",
      "<a href=\"/femail/article-6579543/Can-spot-animal-hidden-image-latest-optical-illusion-blow-mind.html\" itemprop=\"url\">Can YOU spot the animal hidden in this image? Latest optical illusion will blow your mind (but you have to shake your head to see it)</a>\n",
      "</h2>, <h2 class=\"linkro-darkred\">\n",
      "<a href=\"/money/saving/article-6573047/Rare-euro-coins-turn-change-travels-one.html\" itemprop=\"url\">The rare euro coins that can turn up in your change from your travels - could you have one rattling around at home worth a tidy sum?</a>\n",
      "</h2>, <h2 class=\"linkro-darkred\">\n",
      "<a href=\"/femail/article-6581563/Twitter-users-share-biggest-lies-theyve-told.html\" itemprop=\"url\">Monica Lewinsky reveals she pretended Olivia Newton-John was coming to her house for dinner in kindergarten - as Twitter users share the biggest lies they've EVER told</a>\n",
      "</h2>, <h2 class=\"linkro-darkred\">\n",
      "<a href=\"/sport/football/article-6581497/Derby-lodge-formal-complaint-Football-League-spying-storm.html\" itemprop=\"url\">Football 'spying' row as 'suspicious man' spotted with binoculars at Derby County's training ground is revealed to work for rivals Leeds United</a>\n",
      "</h2>, <h2 class=\"linkro-darkred\">\n",
      "<a href=\"/news/article-6581161/Merkel-says-Germany-takes-responsibility-Nazi-crimes-Greece-Athens-calls-damages.html\" itemprop=\"url\">Merkel says Germany 'takes total responsibility for Nazi crimes in Greece' as Athens uses her visit to tell her the country wants billions in damages</a>\n",
      "</h2>, <h2 class=\"linkro-darkred\">\n",
      "<a href=\"/news/article-6580017/Jayme-Closs-ALIVE.html\" itemprop=\"url\">US girl, 13, who was found three months after her parents were murdered was 'skinny, dirty and wearing shoes too big for her' when she flagged down dogwalker for help as man is arrested over her 'kidnapping'</a>\n",
      "</h2>, <h2 class=\"linkro-darkred\">\n",
      "<a href=\"/news/article-6580993/US-official-says-troop-withdrawal-Syria-started.html\" itemprop=\"url\">US withdrawal of troops from Syria has officially begun, military spokesman confirms but refuses to discuss timeline of exit or specific locations</a>\n",
      "</h2>, <h2 class=\"linkro-darkred\">\n",
      "<a href=\"/news/article-6579885/Mystery-donor-hands-500-000-worth-designer-clothes-online-charity-shop.html\" itemprop=\"url\">Mystery donor hands £500,000 worth of designer clothes, bags and 400 pairs of shoes to online charity shop including a Gucci bag and Alexander McQueen boots </a>\n",
      "</h2>, <h2 class=\"linkro-darkred\">\n",
      "<a href=\"/news/article-6581469/Pictured-two-men-leapt-death-Canary-Wharf.html\" itemprop=\"url\">Pictured: First of two men who leapt to their death at Canary Wharf within 24 hours is 32-year-old mental health patient who broke free from carer</a>\n",
      "</h2>, <h2 class=\"linkro-darkred\">\n",
      "<a href=\"/health/article-6580875/New-mother-forced-catch-intestines-C-section-scar-popped-open.html\" itemprop=\"url\">New mother was forced to 'catch her intestines' after her C-section scar popped open 'when she bent over to pick up shampoo in the shower'</a>\n",
      "</h2>, <h2 class=\"linkro-darkred\">\n",
      "<a href=\"/femail/article-6581145/Slimming-World-founder-Margaret-Whittaker-OBEs-life-luxury.html\" itemprop=\"url\">Revealed: How adopted daughter of a coal miner who founded Slimming World now lives a life of luxury mingling with celebs and enjoying a VERY glamorous life in Mallorca - funded by her £15M empire </a>\n",
      "</h2>, <h2 class=\"linkro-darkred\">\n",
      "<a href=\"/news/article-6580913/Poland-arrests-Chinese-Huawei-employee-Polish-national-spying-allegations.html\" itemprop=\"url\">Chinese Huawei 'director' and Polish cyber business specialist are arrested by state security in Poland over spying claims</a>\n",
      "</h2>, <h2 class=\"linkro-darkred\">\n",
      "<a href=\"/news/article-6581033/Russias-media-watchdog-accused-BBC-Thursday-spreading-ideologies-terrorist-groups.html\" itemprop=\"url\">Russia's media watchdog accuses BBC of spreading 'terrorist ideologies' in latest in a tit-for-tat row over impartiality </a>\n",
      "</h2>, <h2 class=\"linkro-darkred\">\n",
      "<a href=\"/news/article-6580683/Scammer-banned-running-company-property-firm-collapses.html\" itemprop=\"url\">Scammer who made £1.6m by selling fake diet pills and bogus cancer treatments is banned from running a company after separate property firm collapses in mountain of debt</a>\n",
      "</h2>, <h2 class=\"linkro-darkred\">\n",
      "<a href=\"/health/article-6581359/Vegan-diets-athletes-Cutting-meat-boosts-heart-health-endurance-recovery.html\" itemprop=\"url\">Vegan diets are the best for athletes: Review reveals cutting out meat 'boosts heart health, endurance and recovery'</a>\n",
      "</h2>, <h2 class=\"linkro-darkred\">\n",
      "<a href=\"/femail/article-6579593/Can-spot-building-mocked-online.html\" itemprop=\"url\">Can you spot why this building is being mocked online? Innocent snap of a Chinese hospital baffles the internet</a>\n",
      "</h2>, <h2 class=\"linkro-darkred\">\n",
      "<a href=\"/health/article-6580851/What-Government-playing-Viewers-fume-state-NHS-hospital-BBC-documentary.html\" itemprop=\"url\">'What is this Government playing at?' Viewers fume at BBC documentary revealing a brand new hospital stands empty while the one next door floods and 'puts patients' lives at risk'</a>\n",
      "</h2>, <h2 class=\"linkro-darkred\">\n",
      "<a href=\"/femail/article-6580809/Hunted-viewers-blast-grassers-dobbed-early-fan-favourite-Loren.html\" itemprop=\"url\">Hunted viewers blast 'snitches' who 'grassed up' early fan favourite Loren after she stopped to ask for help - as she joins 'fugitives' including a Royal Marine and an ex-CON</a>\n",
      "</h2>, <h2 class=\"linkro-darkred\">\n",
      "<a href=\"/health/article-6578291/Millions-risk-early-death-not-eat-fibre-warns-major-study.html\" itemprop=\"url\">Millions are at risk of an early death because they do not eat enough fibre, warns major study</a>\n",
      "</h2>, <h2 class=\"linkro-darkred\">\n",
      "<a href=\"/health/article-6579785/Dr-Mosleys-Fast-800-Diet-easy-stay-slim-ever.html\" itemprop=\"url\">Dr Mosley's Fast 800 Diet: It's so easy to stay slim - for ever! (and these filling family favourites aren't a bad start)</a>\n",
      "</h2>, <h2 class=\"linkro-darkred\">\n",
      "<a href=\"/news/article-6581797/Jayden-Moodie-excluded-school-social-media-posts.html\" itemprop=\"url\">Revealed: Jayden Moodie 'was excluded from school for social media posts weeks before he was stabbed to death at just 14'</a>\n",
      "</h2>, <h2 class=\"linkro-darkred\">\n",
      "<a href=\"/femail/article-6581283/This-Morning-diet-expert-leaves-viewers-outraged.html\" itemprop=\"url\">'You're promoting eating disorders': This Morning viewers slam diet expert for advising overweight people to be DISGUSTED by their fat</a>\n",
      "</h2>, <h2 class=\"linkro-darkred\">\n",
      "<a href=\"/femail/article-6577277/Woman-caught-faking-sickie-boss-pictured-PRINCE-CHARLES-local-paper-day.html\" itemprop=\"url\">Woman reveals her boss caught her faking a sickie when she was pictured with PRINCE CHARLES - but it led to her quitting her job and setting up her own successful business</a>\n",
      "</h2>, <h2 class=\"linkro-darkred\">\n",
      "<a href=\"/news/article-6581455/Paintings-sparked-feud-artists-Turner-Constable-display-London.html\" itemprop=\"url\">Art of war! Two paintings that sparked famous feud between British masters Turner and Constable are set to go on display together for first time since 1832</a>\n",
      "</h2>, <h2 class=\"linkro-darkred\">\n",
      "<a href=\"/health/article-6581727/Trial-HIV-prevention-drug-DOUBLE.html\" itemprop=\"url\">Trial for HIV prevention drug could DOUBLE after warnings hundreds of gay and bisexual men face being turned away from accessing the 'game-changing' pill</a>\n",
      "</h2>, <h2 class=\"linkro-darkred\">\n",
      "<a href=\"/sciencetech/article-6580779/Stunning-panoramic-image-far-moon-captured-Chinas-Jade-Rabbit-rover.html\">Stunning panoramic image of the far side of the moon is captured by China's Chang'e-4 lander</a>\n",
      "</h2>, <h2 class=\"linkro-darkred\">\n",
      "<a href=\"/news/article-6581189/Russia-forced-import-T-34-tanks-helped-defeat-Nazis-Laos-use-military-parades.html\" itemprop=\"url\">Tanks a lot! Russia is forced to import 30 T-34 war machines that helped to defeat the Nazis from Laos to use in military parades after it ran out </a>\n",
      "</h2>, <h2 class=\"linkro-darkred\">\n",
      "<a href=\"/news/article-6580919/BMI-flight-22-passengers-veers-Bristol-Airport-runway.html\" itemprop=\"url\">BMI flight with 22 passengers veered off Bristol Airport runway: Report finds trainee pilot mistook parking brake for air brake on landing </a>\n",
      "</h2>, <h2 class=\"linkro-darkred\">\n",
      "<a href=\"/news/article-6579561/Leading-cancer-expert-dies-suddenly-routine-yellow-fever-jab.html\" itemprop=\"url\">Leading cancer expert, 67, described by the Duke of Cambridge as an 'inspiration' dies suddenly after a routine yellow fever jab</a>\n",
      "</h2>, <h2 class=\"linkro-darkred\">\n",
      "<a href=\"/news/article-6580689/Michael-Schumacher-wife-remain-perfect-couple-manager-says-rate-update.html\" itemprop=\"url\">Michael Schumacher and his wife remain a 'perfect couple' and the F1 great still has a 'bunch of very close and very good friends', his manager reveals in rare update</a>\n",
      "</h2>, <h2 class=\"linkro-darkred\">\n",
      "<a href=\"/femail/article-6578257/Mum-two-45-sixty-eight-lipomas-removed-arms-Dr-Pimple-Popper.html\" itemprop=\"url\">'I feel like a monster!' Mother turns to Dr Pimple Popper to remove SIXTY EIGHT benign tumours from her arm -and the results are not for the faint-hearted</a>\n",
      "</h2>, <h2 class=\"linkro-darkred\">\n",
      "<a href=\"/sciencetech/article-6581277/Search-engine-Bing-showing-child-PORNOGRAPHY.html\" itemprop=\"url\">Search engine Bing is showing child PORNOGRAPHY on the Microsoft-owned site and suggests other disturbing phrases for paedophiles to help them find the illegal images</a>\n",
      "</h2>, <h2 class=\"linkro-darkred\">\n",
      "<a href=\"/femail/article-6581263/83-year-old-widower-looking-love-year-emotional-appeal.html\" itemprop=\"url\">'Get on tinder lad': Viewers joke widower, 83, looking for love should try dating apps as he returns to This Morning a YEAR after launching his emotional appeal to find a partner</a>\n",
      "</h2>, <h2 class=\"linkro-darkred\">\n",
      "<a href=\"/news/article-6580871/Company-director-30-threatened-throw-ACID-ex-lovers-face-collapse-pancake-bar.html\" itemprop=\"url\">Company director, 30, threatened to throw ACID in 29-year-old ex-lover's face during stalking campaign after he blamed her for collapse of their US-themed pancake and milkshake bar</a>\n",
      "</h2>, <h2 class=\"linkro-darkred\">\n",
      "<a href=\"/news/article-6580781/Tony-Blair-John-Major-private-secretary-goes-trial-accused-rape.html\" itemprop=\"url\">Ex-Tony Blair and John Major private secretary, 56, 'raped sleeping woman in her twenties on a sofa bed at his former London home' </a>\n",
      "</h2>, <h2 class=\"linkro-darkred\">\n",
      "<a href=\"/news/article-6581235/Takeaway-worker-20-kills-grandmother-paralyses-grandson.html\" itemprop=\"url\">Takeaway worker, 20, who murdered 86-year-old grandmother with Rambo-style hunting knife as she tried to protect her teenaged grandson from stabbing frenzy faces life in jail</a>\n",
      "</h2>, <h2 class=\"linkro-darkred\">\n",
      "<a href=\"/news/article-6580943/Dutch-public-warned-not-lie-bombs-man-lay-World-War-II-device-three-hours.html\" itemprop=\"url\">Dutch public warned not to lie down on BOMBS after a man lay on an unexploded World War II device for three hours</a>\n",
      "</h2>, <h2 class=\"linkro-darkred\">\n",
      "<a href=\"/femail/article-6577923/James-Reed-reveals-write-perfect-CV.html\" itemprop=\"url\">Revealed: How to create a CV that's GUARANTEED to land you an interview  - from the buzzwords to avoid to the best FONTS to use</a>\n",
      "</h2>, <h2 class=\"linkro-darkred\">\n",
      "<a href=\"/femail/article-6581015/Zara-Phillips-Mike-Tindall-enjoy-beach-Byron-Bay.html\" itemprop=\"url\">Surf's up! Zara cuts a casual figure in a stripy kaftan as she hits the beach with Mike in Byron Bay for a spot of boarding</a>\n",
      "</h2>, <h2 class=\"linkro-darkred\">\n",
      "<a href=\"/news/article-6580797/Ex-scout-leader-jailed-12-years-utterly-vile-sex-crimes.html\" itemprop=\"url\">Snared by his OWN sordid spy cam: Ex-scout leader who secretly filmed teenage boys in the pub he ran is jailed for 12 years for more than a decade of 'utterly vile' sex crimes on children</a>\n",
      "</h2>, <h2 class=\"linkro-darkred\">\n",
      "<a href=\"/news/article-6581123/Heartbroken-mother-tells-moment-missing-son-dead-disused-railway-tunnel.html\" itemprop=\"url\">Heartbroken mother tells of moment she found missing son dead in disused railway tunnel just minutes from home - as inquest finds 'naïve' 18-year-old had taken cocaine before death</a>\n",
      "</h2>, <h2 class=\"linkro-darkred\">\n",
      "<a href=\"/news/article-6580817/Julian-Assange-living-conditions-akin-Stasi-era-dissident-Ecuadorian-embassy.html\" itemprop=\"url\">Julian Assange 'is living in conditions akin to a Stasi-era dissident' as visitors to Ecuadorian embassy have their phones checked and all conversations recorded says friend of the Wikileaks founder</a>\n",
      "</h2>, <h2 class=\"linkro-darkred\">\n",
      "<a href=\"/news/article-6579473/Give-PM-blasts-shocking-case-speedboat-killer-Jack-Shepherd.html\" itemprop=\"url\">'Give yourself up': PM blasts 'shocking case' of speedboat killer Jack Shepherd and says officials are examining his use of legal aid... as police say the net is closing around the fugitive</a>\n",
      "</h2>, <h2 class=\"linkro-darkred\">\n",
      "<a href=\"/travel/travel_news/article-6581271/New-York-popular-place-mentioned-songs-followed-London-LA.html\" itemprop=\"url\">The most sung about locations in the world revealed: New York has the most mentions in songs followed by London and LA</a>\n",
      "</h2>, <h2 class=\"linkro-darkred\">\n",
      "<a href=\"/property/article-6572623/With-850k-budget-buy-six-bed-Wiltshire-castle-two-bed-flat-West-London.html\" itemprop=\"url\">Both these homes cost £850,000, but would you rather buy a six-bed castle in the Wiltshire countryside or a two-bed flat in West London?</a>\n",
      "</h2>, <h2 class=\"linkro-darkred\">\n",
      "<a href=\"/news/article-6580767/Drivers-waste-fuel-save-pennies.html\" itemprop=\"url\">Drivers are making 50-mile round trips to fill up at tiny rural garage selling some of UK's cheapest fuel </a>\n",
      "</h2>, <h2 class=\"linkro-darkred\">\n",
      "<a href=\"/money/cars/article-6581671/Average-petrol-prices-drop-1-20-litre-time-March.html\" itemprop=\"url\">Average petrol pump price drops below 120p a litre for first time in 10 months - but experts say drivers should fill up soon before they rise</a>\n",
      "</h2>, <h2 class=\"linkro-darkred\">\n",
      "<a href=\"/news/article-6580879/Extraordinary-photos-Jane-Austens-family-discovered.html\" itemprop=\"url\">Extraordinary photos of Jane Austen's family are discovered in old photo album bought on eBay - and their lives were just as dramatic as some of novelist's most famous characters</a>\n",
      "</h2>, <h2 class=\"linkro-darkred\">\n",
      "<a href=\"/news/article-6579021/R-Kellys-daughter-voices-support-accusers-calls-father-monster.html\" itemprop=\"url\">'I grew up with that monster': R Kelly's daughter voices support for his accusers and says she hasn't spoken about the allegations for her 'peace of mind and emotional state'</a>\n",
      "</h2>, <h2 class=\"linkro-darkred\">\n",
      "<a href=\"/news/article-6581589/Disgraced-Indian-guru-convicted-murdering-journalist.html\" itemprop=\"url\">Disgraced guru, 51, is convicted of murdering journalist who exposed rampant sexual abuse at his sprawling sect headquarters in India</a>\n",
      "</h2>, <h2 class=\"linkro-darkred\">\n",
      "<a href=\"/news/article-6581753/Race-row-South-Africa-health-officials-advertise-100-new-doctors-not-white-medics.html\" itemprop=\"url\">Race row in South Africa as health officials advertise for 100 new doctors - but white people are told not to apply </a>\n",
      "</h2>, <h2 class=\"linkro-darkred\">\n",
      "<a href=\"/news/article-6581135/Roman-Catholic-Oxford-University-professor-branded-homophobic-defends-actions.html\" itemprop=\"url\">Roman Catholic professor slammed for 'criticising homosexuality' dismisses petition to oust him from Oxford University as 'muddle' and says he ALSO criticised 'freewheeling hetrosexuals'</a>\n",
      "</h2>, <h2 class=\"linkro-darkred\">\n",
      "<a href=\"/news/article-6581137/Man-posed-Uber-driver-kidnapped-raped-robbed-woman-jailed-nine-years.html\" itemprop=\"url\">Woman, 28, whose Uber was cancelled without her realising was picked up instead by man who kidnapped, raped and robbed her and has now been jailed for nine years</a>\n",
      "</h2>, <h2 class=\"linkro-darkred\">\n",
      "<a href=\"/debate/article-6579969/Heroic-war-veteran-MP-JOHNNY-MERCER-confronted-one-legal-bosses-persecuting-troops.html\" itemprop=\"url\">Lawyers? No, they're LEECHES: Heroic war veteran MP JOHNNY MERCER confronted one of the legal bosses persecuting our troops... and gave him both barrels for the lives he has ruined </a>\n",
      "</h2>, <h2 class=\"linkro-darkred\">\n",
      "<a href=\"/news/article-6581431/Striking-portraits-rarely-photographed-Ethiopian-tribe-ancient-body-modification-traditions.html\" itemprop=\"url\">Omi, oh my! Rare glimpse of remote Ethiopian tribe who practice extreme body modification with lip plates and flesh tunnel earrings</a>\n",
      "</h2>, <h2 class=\"linkro-darkred\">\n",
      "<a href=\"/news/article-6581173/Madeleine-McCanns-parents-Kate-Gerry-saving-85-000-royalties-mothers-book.html\" itemprop=\"url\">'We're keeping it for a rainy day': Madeleine McCann's parents Kate and Gerry are 'saving £85,000 in royalties from mother's book to fight legal battle against Portuguese ex-police officer' </a>\n",
      "</h2>, <h2 class=\"linkro-darkred\">\n",
      "<a href=\"/health/article-6580973/Designer-foot-rotting-saved-maggots-ate-away-dead-flesh.html\" itemprop=\"url\">Designer left with a rotting foot after being bitten by a bug in Africa survives when doctors used MAGGOTS to eat away his dead flesh</a>\n",
      "</h2>, <h2 class=\"linkro-darkred\">\n",
      "<a href=\"/femail/article-6577537/Woman-28-suffered-severe-burns-pressure-cooker-exploded-healed-8-MILK-UDDER-CREAM.html\" itemprop=\"url\">Woman, 28, who thought she would be scarred for life after suffering second degree burns when her pressure cooker exploded, has been 'healed' in just a MONTH after using an $10 cream</a>\n",
      "</h2>, <h2 class=\"linkro-darkred\">\n",
      "<a href=\"/money/bills/article-6576801/Rising-cost-energy-bills-blame-households-paying-550-annual-bills.html\" itemprop=\"url\">Households across Britain forked out £550 more on their annual bills in 2018 compared to three years ago - largely thanks to soaring energy costs</a>\n",
      "</h2>, <h2 class=\"linkro-darkred\">\n",
      "<a href=\"/news/article-6580583/The-country-prison-No-sign-better-rights-N-Korea-U-N.html\" itemprop=\"url\">'The whole country is a prison': North Korea is STILL one of the world's worst abusers of human rights despite Kim forging closer ties with the US and South Korea, UN warns</a>\n",
      "</h2>, <h2 class=\"linkro-darkred\">\n",
      "<a href=\"/news/article-6579987/NHS-failing-young-mental-health-patients.html\" itemprop=\"url\">NHS is 'failing' young mental health patients with just one and three getting help when they need it amid a lack of specialist nurses, MPs warn </a>\n",
      "</h2>, <h2 class=\"linkro-darkred\">\n",
      "<a href=\"/femail/article-6580835/Heartbroken-mum-28-spent-nine-days-living-dead-daughter-baby-stillborn.html\" itemprop=\"url\">Heartbroken mother reveals how she danced and sang to her stillborn daughter while they spent NINE days together before her funeral thanks to a special 'cooling cot'</a>\n",
      "</h2>, <h2 class=\"linkro-darkred\">\n",
      "<a href=\"/news/article-6581655/Venue-Beatles-pelted-coins-worst-gig-sells-just-1.html\" itemprop=\"url\">Penny pain! Venue where Beatles were pelted with coins at their worst ever gig in front of a crowd of three sells for just £1 </a>\n",
      "</h2>, <h2 class=\"linkro-darkred\">\n",
      "<a href=\"/news/article-6581545/Large-Rhea-takes-residence-Worcestershire-golf-club.html\" itemprop=\"url\">Now THAT'S a birdie! Linford the 6ft rhea makes new home on golf course after escaping from owner's home</a>\n",
      "</h2>, <h2 class=\"linkro-darkred\">\n",
      "<a href=\"/news/article-6581405/Vile-YouTube-pick-artist-probed-police.html\" itemprop=\"url\">'Vile' YouTube 'pick up artist' who secretly films himself talking to women in the street and trying to take them home is being probed by police</a>\n",
      "</h2>, <h2 class=\"linkro-darkred\">\n",
      "<a href=\"/femail/article-6577913/Blogger-sparks-heated-debate-accusing-ASOS-padding-slim-models-look-plus-size.html\" itemprop=\"url\">Blogger accuses ASOS of using padding to make a 'plus size' model look bigger on its website - but the retailer insists it's her 'natural' body shape</a>\n",
      "</h2>, <h2 class=\"linkro-darkred\">\n",
      "<a href=\"/home/books/article-6579185/Life-Tommy-Cooper-laugh-about.html\" itemprop=\"url\">Life with Tommy Cooper was nothing to laugh about: Yes, he was brilliantly funny - but he rarely paid his gag writers, cheated on his wife and breakfasted on gin with his cornflakes </a>\n",
      "</h2>, <h2 class=\"linkro-darkred\">\n",
      "<a href=\"/health/article-6580935/Diabetic-30-claims-just-days-death-5st-cutting-insulin.html\" itemprop=\"url\">Diabetic, 30, claims she was 'just days from death' after her weight dropped to just 5st after cutting back on insulin in a desperate attempt to lose weight</a>\n",
      "</h2>, <h2 class=\"linkro-darkred\">\n",
      "<a href=\"/health/article-6581077/Student-claims-doctors-labelled-SUPERFICIAL-wanting-scoliosis-surgery.html\" itemprop=\"url\">Student, 22, claims doctors labelled her 'SUPERFICIAL' for wanting scoliosis surgery to correct the 60 degree curve in her 'wonky' back</a>\n",
      "</h2>, <h2 class=\"linkro-darkred\">\n",
      "<a href=\"/news/article-6581089/Jaguar-Land-Rover-moved-2-350-jobs-Slovakia-help-110m-EU-sweetener.html\" itemprop=\"url\">Jaguar Land Rover moved 2,350 jobs to Slovakia with the help of £110m sweetener offered under EU rules before it axed 4,500 British workers </a>\n",
      "</h2>, <h2 class=\"linkro-darkred\">\n",
      "<a href=\"/news/article-6580101/Texas-pair-convicted-enslaving-African-girl-16-years.html\" itemprop=\"url\">Son of former president of Guinea convicted with his wife of enslaving girl in their Texas home for 16 years after bringing her over from her African village</a>\n",
      "</h2>, <h2 class=\"linkro-darkred\">\n",
      "<a href=\"/news/article-6581087/Venezuelan-president-Nicolas-Maduro-threatened-sanctions-labelled-dictator-inauguration.html\" itemprop=\"url\">Venezuela's 'dictator' Maduro is shunned by world leaders and threatened with sanctions as he is inaugurated for his second term in office</a>\n",
      "</h2>, <h2 class=\"linkro-darkred\">\n",
      "<a href=\"/sciencetech/article-6581643/Elon-Musk-unveils-svelte-120-foot-tall-Starship-time.html\" itemprop=\"url\">The REAL spacehopper! Elon Musk unveils his svelte 120-foot-tall Starship for the first time which he claims will make its first test flight within weeks</a>\n",
      "</h2>, <h2 class=\"linkro-darkred\">\n",
      "<a href=\"/sciencetech/article-6578137/King-George-III-letter-signalling-war-intent-sells-auction-11-430.html\" itemprop=\"url\">The letter that sparked the Napoleonic war! King George III's missive stating his intention to declare hostilities against Napoleon sells at auction for £11,430 (more than 11 times its original estimate!)</a>\n",
      "</h2>, <h2 class=\"linkro-darkred\">\n",
      "<a href=\"/news/article-6580907/Uber-private-jets-backed-Jay-Z-Kim-Kardashian-accused-scamming-members.html\" itemprop=\"url\">'Uber for private jets' backed by Jay-Z and endorsed by Kim Kardashian is accused of scamming its rich and famous customers</a>\n",
      "</h2>, <h2 class=\"linkro-darkred\">\n",
      "<a href=\"/news/article-6579243/Nurse-decapitates-baby-pulling-hard-difficult-birth-hospital-India.html\" itemprop=\"url\">Nurse 'decapitates a baby while pulling too hard during a difficult birth' at a hospital in India </a>\n",
      "</h2>, <h2 class=\"linkro-darkred\">\n",
      "<a href=\"/femail/article-6578355/Maternity-label-Meghans-218-dress-gushes-royals-outing.html\" itemprop=\"url\">Maternity label behind Meghan's $218 dress which counts Jessica Alba, Natalie Portman and Lily Aldridge among its fans gushes over the royal's outing - hailing it the 'best day ever'</a>\n",
      "</h2>, <h2 class=\"linkro-darkred\">\n",
      "<a href=\"/news/article-6580719/Law-student-embraces-four-hour-wait-airport-dancing-terminal.html\" itemprop=\"url\">Law student who missed her flight embraces a four hour wait at the airport by dancing around the terminal- and even her cat joins in </a>\n",
      "</h2>, <h2 class=\"linkro-darkred\">\n",
      "<a href=\"/news/article-6580983/German-shepherd-tries-walking-new-snow-boots-time.html\" itemprop=\"url\">Hilarious moment German shepherd tries walking in new snow boots for the first time - much to the owner's amusement</a>\n",
      "</h2>, <h2 class=\"linkro-darkred\">\n",
      "<a href=\"/femail/article-6578567/Penn-Badgley-shuts-people-confess-attraction-STALKER-character.html\" itemprop=\"url\">'He's a murderer!' Penn Badgley shuts down Twitter users who admit they're attracted to the very creepy STALKER he plays in Netflix hit You</a>\n",
      "</h2>, <h2 class=\"linkro-darkred\">\n",
      "<a href=\"/tvshowbiz/article-6580139/The-Sopranos-creator-David-Chase-described-Tony-Sopranos-outing-diner-death-scene.html\" itemprop=\"url\">'Tony Soprano DID die in final episode': Writer David Chase confirms tragic ending following years of debate over that cliffhanger finale</a>\n",
      "</h2>, <h2 class=\"linkro-darkred\">\n",
      "<a href=\"/femail/food/article-6578133/Etiquette-expert-says-hosts-handy-bag-salad-fridge-vegans.html\" itemprop=\"url\">Are your New Year's resolutions making you look common? Etiquette expert William Hanson reveals why 'virtue signalling' veganism is NOT in good taste (and how to cater for the meat-free dinner guest)</a>\n",
      "</h2>, <h2 class=\"linkro-darkred\">\n",
      "<a href=\"/news/article-6580725/Sexism-row-hits-Britains-biggest-tractor-exhibitor-hires-two-F1-style-dancers.html\" itemprop=\"url\">Meet the cattle grid girls! Sexism row hits Britain's biggest tractor show after exhibitor hires two F1 style dancers to attract buyers to their farming stall</a>\n",
      "</h2>, <h2 class=\"linkro-darkred\">\n",
      "<a href=\"/news/article-6581163/Grieving-man-spends-four-months-creating-12-000-jungle-play-area-late-brothers-pet-cats.html\">Grieving software engineer spends four months creating a £12,000 jungle play area for his late brother's pet cats - complete with LED tribute to him </a>\n",
      "</h2>, <h2 class=\"linkro-darkred\">\n",
      "<a href=\"/news/article-6581097/Light-fingered-Brazen-thief-steals-blue-light-roof-police-car-walks-away-laughing.html\" itemprop=\"url\">Light-fingered! Brazen thief steals blue light from roof of police car and walks away laughing</a>\n",
      "</h2>, <h2 class=\"linkro-darkred\">\n",
      "<a href=\"/travel/travel_news/article-6564645/Couple-seven-year-old-son-spent-two-years-travelling-world-military-truck.html\" itemprop=\"url\">Couple and their seven-year-old son have spent two years travelling the world in their converted 40-year-old military truck - and the pictures are jaw-dropping</a>\n",
      "</h2>, <h2 class=\"linkro-darkred\">\n",
      "<a href=\"/femail/article-6580837/Former-Mr-Universe-competitor-DITCHES-food-favour-drinking-urine-week.html\" itemprop=\"url\">Former Mr Universe competitor who has given up ALL food during the week in favor of drinking his own URINE insists he's in better shape than ever - and says it's cured his chronic pain</a>\n",
      "</h2>, <h2 class=\"linkro-darkred\">\n",
      "<a href=\"/news/article-6581337/Waitress-Michelin-starred-restaurant-run-killed-chef-colleague.html\" itemprop=\"url\">Waitress at Michelin-starred restaurant is run over and killed 'by her chef colleague' while leaving a disco where they had been partying all night</a>\n",
      "</h2>, <h2 class=\"linkro-darkred\">\n",
      "<a href=\"/news/article-6580715/Rodrigo-Duterte-calls-Catholic-Church-allow-useless-priests-boyfriends.html\" itemprop=\"url\">'Most of them are gay': Rodrigo Duterte calls on the Catholic Church to allow its 'useless' priests to have boyfriends</a>\n",
      "</h2>, <h2 class=\"linkro-darkred\">\n",
      "<a href=\"/news/article-6580449/Ghosn-hit-charges-release-unlikely.html\" itemprop=\"url\">Nissan chief Carlos Ghosn 'unlikely to be released' after being hit with two more financial misconduct charges by Japanese prosecutors</a>\n",
      "</h2>, <h2 class=\"linkro-darkred\">\n",
      "<a href=\"/news/article-6577709/Vigilantes-use-metal-plate-tattoo-Por-Rata-Rat-suspected-oil-thiefs-back.html\">Horrific moment vigilantes brand Mexican fuel thief on his back with the words 'for being a rat'</a>\n",
      "</h2>, <h2 class=\"linkro-darkred\">\n",
      "<a href=\"/news/article-6580699/Cocaine-addicted-mother-two-40-faces-jail-embezzling-second-firm.html\" itemprop=\"url\">Cocaine-addict mother-of-two, 40, who was jailed for scamming £372,163 from company to fund lavish lifestyle and luxury holidays admits embezzling £255,000 from ANOTHER firm</a>\n",
      "</h2>, <h2 class=\"linkro-darkred\">\n",
      "<a href=\"/sciencetech/article-6581057/University-study-sheds-light-hunting-methods-prehistoric-dogs.html\" itemprop=\"url\">Prehistoric dogs the size of GRIZZLY BEARS lived 16 million years ago and hunted in the same way as modern-day foxes </a>\n",
      "</h2>, <h2 class=\"linkro-darkred\">\n",
      "<a href=\"/news/article-6581869/Yellow-vests-BANNED-parts-France-amid-fears-violence.html\" itemprop=\"url\">Yellow vests are BANNED from marching in parts of France amid fears of violence and looting as police warn protests are gaining steam again as they enter their ninth week </a>\n",
      "</h2>, <h2 class=\"linkro-darkred\">\n",
      "<a href=\"/news/article-6579907/Police-search-man-caught-CCTV-stealing-blue-lights-marked-patrol-car.html\" itemprop=\"url\">Police search for man caught on CCTV 'stealing the blue lights from a marked patrol car' </a>\n",
      "</h2>, <h2 class=\"linkro-darkred\">\n",
      "<a href=\"/news/article-6581385/Grade-listed-Gothic-mansion-wine-cellar-cinema-room-sale-11-5m.html\" itemprop=\"url\">Grade I-listed Gothic mansion with wine cellar and cinema room which served as hospital for WWI officers goes on market for £11.5million</a>\n",
      "</h2>, <h2 class=\"linkro-darkred\">\n",
      "<a href=\"/news/article-6579807/Men-self-identify-women-routinely-NHS-hospital-wards-females.html\" itemprop=\"url\">Transgender storm as men who self-identify as women are 'routinely' put on NHS hospital wards for females  </a>\n",
      "</h2>, <h2 class=\"linkro-darkred\">\n",
      "<a href=\"/money/markets/article-6580997/Lidl-poaches-58million-Christmas-food-spend-rivals-shoppers-gobble-posh-ranges.html\" itemprop=\"url\">Lidl surprises supermarket rivals as it poaches £58million of Christmas food spend as shoppers gobble up its posh ranges</a>\n",
      "</h2>, <h2 class=\"linkro-darkred\">\n",
      "<a href=\"/debate/article-6579205/SARAH-VINE-shivers-latest-Instagram-boast-posing-snow-wearing-bikini.html\" itemprop=\"url\">Brrr! My other ski suit is a snowkini: SARAH VINE shivers at the latest insane Instagram boast - posing in the snow wearing nothing but your bikini </a>\n",
      "</h2>, <h2 class=\"linkro-darkred\">\n",
      "<a href=\"/debate/article-6580001/TOM-UTLEY-driving-potty-Im-oldies-health-check.html\" itemprop=\"url\">TOM UTLEY: It's driving me potty - I'm due an oldies' health check... but what if it costs me my driving licence? </a>\n",
      "</h2>, <h2 class=\"linkro-darkred\">\n",
      "<a href=\"/sciencetech/article-6578979/CES-2019-Family-tech-gadgets-appeal-parental-anxiety.html\">Is this the future of parenting? 'Family tech' firms unveil a £235 breast massager and a pregnancy band that tracks your baby's heartbeat in the womb</a>\n",
      "</h2>, <h2 class=\"linkro-darkred\">\n",
      "<a href=\"/news/article-6579209/Can-Fitbit-style-gadget-replace-Pill-Makers-249-Ava-fertility-tracking-bracelets-say-yes.html\" itemprop=\"url\">Could a Fitbit-style gadget REALLY replace The Pill? Makers of £249 'Ava' fertility tracking bracelets say a new setting will warn women against sex when they're most likely to conceive </a>\n",
      "</h2>, <h2 class=\"linkro-darkred\">\n",
      "<a href=\"/sciencetech/article-6579215/Alexa-make-vibrator-insane-OhMiBod-unveils-smart-sex-toys-control-afar.html\" itemprop=\"url\">'Alexa, make my vibrator go insane': OhMiBod unveils Bluetooth sex toys that respond to voice commands and can buzz to the beat of the music - or even your partner's heartbeat</a>\n",
      "</h2>, <h2 class=\"linkro-darkred\">\n",
      "<a href=\"/sciencetech/article-6579397/Olays-Future-Simulation-app-gives-users-terrifying-peek-theyll-age.html\" itemprop=\"url\">The AI that will tell you how your face will age: Olay reveals app that can analyze your skin from a selfie and show you how you'll look in 20 years</a>\n",
      "</h2>, <h2 class=\"linkro-darkred\">\n",
      "<a href=\"/sciencetech/article-6578201/550-headset-train-brain-choose-healthy-foods.html\" itemprop=\"url\">Could a $550 headset mean the end of diets? Meditation gadget claims to be able to 'train your brain' to choose healthy foods</a>\n",
      "</h2>, <h2 class=\"linkro-darkred\">\n",
      "<a href=\"/travel/travel_news/article-6580953/Jumbo-jet-converted-80-night-hotel-room.html\" itemprop=\"url\">Spend the night in a plane... on the ground! Former aircraft is converted into a quirky £80-per-night hotel room</a>\n",
      "</h2>, <h2 class=\"linkro-darkred\">\n",
      "<a href=\"/news/article-6580701/Guy-throws-dart-cup-attached-lands-ping-pong-ball-inside.html\" itemprop=\"url\">'Do not play beer pong with this man!': Guy shows off his incredible timing when he throws a dart with cup attached and lands a ping pong ball inside </a>\n",
      "</h2>, <h2 class=\"linkro-darkred\">\n",
      "<a href=\"/news/article-6578445/Monkeys-skilfully-climb-phone-wires-Japan.html\" itemprop=\"url\">Troops of monkeys keep their feet warm and dry by walking along phone lines high above the snow in Japan</a>\n",
      "</h2>, <h2 class=\"linkro-darkred\">\n",
      "<a href=\"/news/article-6579913/PAUL-THOMAS-Speaker-Bercow.html\" itemprop=\"url\">PAUL THOMAS on... Speaker Bercow</a>\n",
      "</h2>, <h2 class=\"linkro-darkred\">\n",
      "<a href=\"/news/article-6581095/Ice-encrusted-athletes-compete-worlds-coldest-race-temperatures-61F-Russia.html\">Ice-encrusted athletes compete in world's coldest race in temperatures of -61F in Russia - but nobody manages to finish it </a>\n",
      "</h2>, <h2 class=\"linkro-darkred\">\n",
      "<a href=\"/news/article-6581437/Kayaker-captures-pod-bottlenose-dolphins-chasing-herring-coast-Cornwall.html\">Kayaker captures breath-taking moment a pod of bottlenose dolphins chase herring to the water's surface in a feeding frenzy off the coast of Cornwall </a>\n",
      "</h2>, <h2 class=\"linkro-darkred\">\n",
      "<a href=\"/news/article-6579915/There-inherently-offensive-white-actors-blacking-says-Simon-Callow.html\" itemprop=\"url\">There is 'nothing inherently offensive' about white actors blacking up to play  ethnic roles, says Simon Callow      </a>\n",
      "</h2>, <h2 class=\"linkro-darkred\">\n",
      "<a href=\"/news/article-6579225/Incredible-moment-Chinese-rocket-carrying-countrys-new-state-art-satellite-takes-off.html\" itemprop=\"url\">Incredible moment Chinese rocket carrying the country's new state of the art satellite takes off from Sichuan Province </a>\n",
      "</h2>, <h2 class=\"linkro-darkred\">\n",
      "<a href=\"/news/article-6580697/Deer-jumps-two-metres-air-launches-road-straight-car.html\">Shocking moment deer jumps two metres into the air and launches itself more than 10 metres across a snowy road straight in front of a car </a>\n",
      "</h2>]\n",
      "[\"Here's what you could have won! Fury as winner of raffle for couple's £3m home are told they WON'T get the house because not enough tickets were sold (but they will get £110,000 cash instead)\", \"Police are slammed for showing CCTV of smartly-dressed pickpocket preying on elderly Waitrose shopper... but protect crook's identity by BLURRING his face\", \"Protective Harry feels 'responsible' for Meghan's 'unhappiness' over a stream of negative rumours - after witnessing his late mother endure the same before her death\", \"Britain's burglary hotspots revealed: Henley-in-Arden residents make the most insurance claims - so does your town feature?\", \"Charity worker, 28, died of head injury from leaning out of train and hitting tree branch at 85mph after ignoring 'do not lean out of window' warning sticker\", 'Are smart motorways catching speeders at ALL TIMES? Social media rumours claim that cameras on M1 and M25 are now set to 70mph speed limit', \"'No Brexit is in sight': Hunt warns Tory Eurosceptics that Parliament will NOT allow Britain to crash out of the EU if May's deal is rejected as Rudd hints she could QUIT\", 'Whitehall mobilises for no-deal Brexit: Up to 4,000 civil servants shift to focus on minimising border chaos as plans are ramped up for crashing out of the EU in March', 'Economic slowdown continues as Brexit day nears as manufacturing of cars and medicines plunge', \"'Best thing after a tough day is a big cuddle with your mum': Andy Murray posts selfie with Judy as he thanks fans for dubbing him 'Britain's greatest sportsman' after tearful retirement announcement\", \"'I don't do BLUBBING!': TalkSport host Alan Brazil is branded a 'caveman' for slamming Andy Murray's tearful retirement speech\", \"From using pain killers on irons to 'strip washing' EVERYTHING: Mothers reveal the amazing DIY cleaning hacks they've discovered in 2019 so far\", \"Celebrity chauffeurs reveal the outrageous demands of their high society clients - including procuring a 'transvestite prostitute', picking up 27 bottles of hair removal cream and facilitating drug deals\", 'Man, 24, who became first person in UK to be convicted for paying for sex will serve three months in jail after losing his appeal', 'Heartbreaking moment little boy desperately chases thief who grabs his Jack Russell puppy while they are out for a walk - then brazenly flees with her in his arms', \"Are diets making you FATTER? Expert warns regimes are a 'waste of time' and are contributing to Britain's obesity epidemic\", \"The 'Yellow Vultures' have landed! New LED speed cameras that snare drivers on phone, eating or smoking at wheel are now looming over roads in Britain\", \"Avalanche bursts through Swiss hotel restaurant while guests are eating: Three injured and 25 cars buried under 1,000ft wall of snow as police search for 'missing' and forecasters warn Europe's whiteout will last well into next week\", 'Siberian snow blast could hit THIS MONTH! Beast from the East is set to sweep Britain in a fortnight as frozen Europe shivers in -24C temperatures', \"'Bad news, I'm not dying': Piers Morgan makes playful reference about his ailing health as he shares shock picture of himself from hospital bed\", \"Family's agony after man, 32, was run over and killed by Volkswagen as he was having 'road rage' row in layby with van driver\", \"Seven dead and at least five injured after bus carrying tourists 'including Britons' crashes in Cuba\", 'Heartbroken BBC colleague of former Radio 1 star Dianne Oxberry breaks down live on air as he pays tribute to mother-of-two after she dies of cancer aged 51', 'Family who believe girl, nine, was killed by illegal levels of air pollution from heavy traffic win right to new inquest', \"'I could have been blinded by a £4 sex toy': Woman, 25, says batteries in her brand new vibrator exploded and scorched her jumper\", \"Robbie Williams 'mocks neighbour Jimmy Page by dressing up as Led Zeppelin star's bandmate Robert Plant and playing rival rock music through outside loudspeakers' claims local\", \"Scientists warn Earth's magnetic North Pole has begun moving 'erratically' at speeds so fast they are having to issue an emergency update to maps used by electronic navigation systems\", 'Perfect for life in the fast lane! Lewis Hamilton snaps up stunning Manhattan penthouse for a cool $40million', \"First EVER sighting of a black hole in the Milky Way may have been found: Image of the object would become 'one of the most iconic' ever created by scientists, say researchers\", \"David Beckham's former brother-in-law who helped run £810,000 'boiler room' scam to con vulnerable people out of their savings is jailed for nearly three years\", \"Revealed: Question Time's 'Woman in Yellow Jacket' - whose speech urging Britain to 'get over feeling sorry for Theresa May' sent Twitter into meltdown - is a former crown court judge who works as adviser to MPs\", \"'She's had 15 years of greedy vase-owners... and now she's off the f***ing leash': Question Time viewers heap praise on new host Fiona Bruce for 'clobbering waffling MPs' on debut show\", \"Too safe, polite, and generally 'lovely', like Jodie Whittaker in Doctor Who, the choice of Fiona Bruce was not a cop-out on Question Time, by JIM SHELLEY\", \"Lidl launches luxury £25 bed linen that looks almost IDENTICAL to The White Company's £450 sheets - but can you tell which one is the designer set?\", \"'Just breathe and have that inner confidence': Meghan opens up about the techniques she used to feel self-assured as she negotiated her big transition from actress to Duchess\", \"Paul Hollywood's estranged wife Alex 'is struggling to cope' with death of her pilot brother in Spanish plane crash\", \"Dwayne 'The Rock' Johnson slams Britain's 'snowflake generation' - insisting their 'easily offended' ways are 'putting us backwards'\", \"Death threats target Saudi refugee as Canada emerges as her potential new home despite Australia's willingness to fast-track her application\", 'Supermarket scramble! Tesco shoppers shove each other out of the way and fling cut-price items into their baskets in discount food frenzy', \"'I killed JonBenét Ramsey': Convicted paedophile confesses to murder of six-year-old US pageant princess in jail letters to his friend - claiming it was 'an accident'\", \"Mystery surrounds missing 12-year-old boy who police warned public not to approach as he's 'seen in the last week' after disappearing before Christmas\", 'Revealed: Boris Johnson, 54, spent New Year with his new ex-Tory aide girlfriend, 30, in the Greek villa he took his children just months earlier', \"Former Neighbours star Craig McLachlan is charged with eight counts of indecent assault for 'abusing and harassing' women from the Rocky Horror Show\", \"Louise Redknapp shares picture of her bloodied face after receiving 10 stitches and fracturing her wrist from 'nasty' fall in the street - forcing her to pull out of West End musical 9 To 5\", \"How millennial employees are GHOSTING bosses by quitting jobs without notice - as experts warn the rise of 'faceless' online interactions means it's only going to get WORSE\", 'Former beauty queen teacher dies after being hit by 4x4 in car crash which also injured girl, six, near school', \"Single mothers win High Court battle with Government after 'irregular' Universal Credit payments forced them to turn down jobs and use food banks\", 'Amber Rudd hints at end to benefit freeze as she unveils overhaul to flagship universal credit reforms', \"'No deal Brexit would be a catastrophe': Juncker warning as he reveals EU is working with May to thrash out 'clarifications' on her deal before crunch Commons vote\", 'RICHARD LITTLEJOHN: Sorry folks, but I have to mention the B-word (and it might not be quite what you expect)', 'Secret Number 10 memo damns plotters: Leak reveals May fury at ministers manoeuvring for leadership as she fights to save Brexit deal', 'No-deal Brexit would cause GDP to shrink by up to 8 per cent and put thousands of jobs at risks, CBI boss warns', \"Fancy a flutter? Punters predicted 'Leave' result of Brexit before the professionals did and created a golden hour for traders to take advantage\", 'Revealed: The shirtless selfies, lewd photo and lusty texts Jeff Bezos sent his married mistress - as it emerges the pair hooked up in hotels, private jets and BOTH their marital homes for months before he announced his divorce', \"JANET STREET-PORTER: With all the money in the world, the first thing Mackenzie Bezos should acquire is a man who doesn't always put himself (and his plan for world domination) first\", \"Superagent husband of Jeff Bezos' lover is seen leaving his Beverly Hills mansion as friends say he and his wife are still close and were even spotted huddling together at the Amazon Golden Globes party Sunday\", \"From morning news anchor and reality TV show host to girlfriend of the world's richest man: How Lauren Sanchez launched a successful Hollywood career and tied the knot in front of Matt Damon and Ben Affleck before falling for the Amazon CEO\", \"'Yuck, Alexa, make it stop!' Twitter mocks Jeff Bezos for the text messages he sent\\xa0married TV anchor he was 'having an affair with' before his divorce was made public\", 'Can YOU spot the animal hidden in this image? Latest optical illusion will blow your mind (but you have to shake your head to see it)', 'The rare euro coins that can turn up in your change from your travels - could you have one rattling around at home worth a tidy sum?', \"Monica Lewinsky reveals she pretended Olivia Newton-John was coming to her house for dinner in kindergarten - as Twitter users share the biggest lies they've EVER told\", \"Football 'spying' row as 'suspicious man' spotted with binoculars at Derby County's training ground is revealed to work for rivals Leeds United\", \"Merkel says Germany 'takes total responsibility for Nazi crimes in Greece' as Athens uses her visit to tell her the country wants billions in damages\", \"US girl, 13, who was found three months after her parents were murdered was 'skinny, dirty and wearing shoes too big for her' when she flagged down dogwalker for help as man is arrested over her 'kidnapping'\", 'US withdrawal of troops from Syria has officially begun, military spokesman confirms but refuses to discuss timeline of exit or specific locations', 'Mystery donor hands £500,000 worth of designer clothes, bags and 400 pairs of shoes to online charity shop including a Gucci bag and Alexander McQueen boots', 'Pictured: First of two men who leapt to their death at Canary Wharf within 24 hours is 32-year-old mental health patient who broke free from carer', \"New mother was forced to 'catch her intestines' after her C-section scar popped open 'when she bent over to pick up shampoo in the shower'\", 'Revealed: How adopted daughter of a coal miner who founded Slimming World now lives a life of luxury mingling with celebs and enjoying a VERY glamorous life in Mallorca - funded by her £15M empire', \"Chinese Huawei 'director' and Polish cyber business specialist are arrested by state security in Poland over spying claims\", \"Russia's media watchdog accuses BBC of spreading 'terrorist ideologies' in latest in a tit-for-tat row over impartiality\", 'Scammer who made £1.6m by selling fake diet pills and bogus cancer treatments is banned from running a company after separate property firm collapses in mountain of debt', \"Vegan diets are the best for athletes: Review reveals cutting out meat 'boosts heart health, endurance and recovery'\", 'Can you spot why this building is being mocked online? Innocent snap of a Chinese hospital baffles the internet', \"'What is this Government playing at?' Viewers fume at BBC documentary revealing a brand new hospital stands empty while the one next door floods and 'puts patients' lives at risk'\", \"Hunted viewers blast 'snitches' who 'grassed up' early fan favourite Loren after she stopped to ask for help - as she joins 'fugitives' including a Royal Marine and an ex-CON\", 'Millions are at risk of an early death because they do not eat enough fibre, warns major study', \"Dr Mosley's Fast 800 Diet: It's so easy to stay slim - for ever! (and these filling family favourites aren't a bad start)\", \"Revealed: Jayden Moodie 'was excluded from school for social media posts weeks before he was stabbed to death at just 14'\", \"'You're promoting eating disorders': This Morning viewers slam diet expert for advising overweight people to be DISGUSTED by their fat\", 'Woman reveals her boss caught her faking a sickie when she was pictured with PRINCE CHARLES - but it led to her quitting her job and setting up her own successful business', 'Art of war! Two paintings that sparked famous feud between British masters Turner and Constable are set to go on display together for first time since 1832', \"Trial for HIV prevention drug could DOUBLE after warnings hundreds of gay and bisexual men face being turned away from accessing the 'game-changing' pill\", \"Stunning panoramic image of the far side of the moon is captured by China's Chang'e-4 lander\", 'Tanks a lot! Russia is forced to import 30 T-34 war machines that helped to defeat the Nazis from Laos to use in military parades after it ran out', 'BMI flight with 22 passengers veered off Bristol Airport runway: Report finds trainee pilot mistook parking brake for air brake on landing', \"Leading cancer expert, 67, described by the Duke of Cambridge as an 'inspiration' dies suddenly after a routine yellow fever jab\", \"Michael Schumacher and his wife remain a 'perfect couple' and the F1 great still has a 'bunch of very close and very good friends', his manager reveals in rare update\", \"'I feel like a monster!' Mother turns to Dr Pimple Popper to remove SIXTY EIGHT benign tumours from her arm -and the results are not for the faint-hearted\", 'Search engine Bing is showing child PORNOGRAPHY on the Microsoft-owned site and suggests other disturbing phrases for paedophiles to help them find the illegal images', \"'Get on tinder lad': Viewers joke widower, 83, looking for love should try dating apps as he returns to This Morning a YEAR after launching his emotional appeal to find a partner\", \"Company director, 30, threatened to throw ACID in 29-year-old ex-lover's face during stalking campaign after he blamed her for collapse of their US-themed pancake and milkshake bar\", \"Ex-Tony Blair and John Major private secretary, 56, 'raped sleeping woman in her twenties on a sofa bed at his former London home'\", 'Takeaway worker, 20, who murdered 86-year-old grandmother with Rambo-style hunting knife as she tried to protect her teenaged grandson from stabbing frenzy faces life in jail', 'Dutch public warned not to lie down on BOMBS after a man lay on an unexploded World War II device for three hours', \"Revealed: How to create a CV that's GUARANTEED to land you an interview  - from the buzzwords to avoid to the best FONTS to use\", \"Surf's up! Zara cuts a casual figure in a stripy kaftan as she hits the beach with Mike in Byron Bay for a spot of boarding\", \"Snared by his OWN sordid spy cam: Ex-scout leader who secretly filmed teenage boys in the pub he ran is jailed for 12 years for more than a decade of 'utterly vile' sex crimes on\\xa0children\", \"Heartbroken mother tells of moment she found missing son dead in disused railway tunnel just minutes from home - as inquest finds 'naïve' 18-year-old had taken cocaine before death\", \"Julian Assange 'is living in conditions akin to a Stasi-era dissident' as visitors to Ecuadorian embassy have their phones checked and all conversations recorded says friend of the Wikileaks founder\", \"'Give yourself up': PM blasts 'shocking case' of speedboat killer Jack Shepherd and says officials are examining his use of legal aid... as police say the net is closing around the fugitive\", 'The most sung about locations in the world revealed: New York has the most mentions in songs followed by London and LA', 'Both these homes cost £850,000, but would you rather buy a six-bed castle in the Wiltshire countryside or a two-bed flat in West London?', \"Drivers are making 50-mile round trips to fill up at tiny rural garage selling some of UK's cheapest fuel\", 'Average petrol pump price drops below 120p a litre for first time in 10 months - but experts say drivers should fill up soon before they rise', \"Extraordinary photos of Jane Austen's family are discovered in old photo album bought on eBay - and their lives were just as dramatic as some of novelist's most famous characters\", \"'I grew up with that monster': R Kelly's daughter voices support for his accusers and says she hasn't spoken about the allegations for her 'peace of mind and emotional state'\", 'Disgraced guru, 51, is convicted of murdering journalist who exposed rampant sexual abuse\\xa0at his sprawling sect headquarters in India', 'Race row in South Africa as health officials advertise for 100 new doctors - but white people are told not to apply', \"Roman Catholic professor slammed for 'criticising homosexuality' dismisses petition to oust him from Oxford University as 'muddle' and says he ALSO criticised 'freewheeling hetrosexuals'\", 'Woman, 28, whose Uber was cancelled without her realising was picked up instead by man who kidnapped, raped and robbed her and has now been jailed for nine years', \"Lawyers? No, they're LEECHES: Heroic war veteran MP JOHNNY MERCER confronted one of the legal bosses persecuting our troops... and gave him both barrels for the lives he has ruined\", 'Omi, oh my! Rare glimpse of remote Ethiopian tribe who practice extreme body modification with lip plates and flesh tunnel earrings', \"'We're keeping it for a rainy day': Madeleine McCann's parents Kate and Gerry are 'saving £85,000 in royalties from mother's book to fight legal battle against Portuguese ex-police officer'\", 'Designer left with a rotting foot after being bitten by a bug in Africa survives when doctors used MAGGOTS to eat away his dead flesh', \"Woman, 28, who thought she would be scarred for life after suffering second degree burns when her pressure cooker exploded, has been 'healed' in just a MONTH after using an $10 cream\", 'Households across Britain forked out £550 more on their annual bills in 2018 compared to three years ago - largely thanks to soaring energy costs', \"'The whole country is a prison': North Korea is STILL one of the world's worst abusers of human rights despite Kim forging closer ties with the US and South Korea, UN warns\", \"NHS is 'failing' young mental health patients with just one and three getting help when they need it amid a lack of specialist nurses, MPs warn\", \"Heartbroken mother reveals how she danced and sang to her stillborn daughter while they spent NINE days together before her funeral thanks to a special 'cooling cot'\", 'Penny pain! Venue where Beatles were pelted with coins at their worst ever gig in front of a crowd of three sells for just £1', \"Now THAT'S a birdie! Linford the 6ft rhea makes new home on golf course after escaping from owner's home\", \"'Vile' YouTube 'pick up artist' who secretly films himself talking to women in the street and trying to take them home is being probed by police\", \"Blogger accuses ASOS of using padding to make a 'plus size' model look bigger on its website - but the retailer insists it's her 'natural' body shape\", 'Life with Tommy Cooper was nothing to laugh about:\\xa0Yes, he was brilliantly funny - but he rarely paid his gag writers, cheated on his wife and breakfasted on gin with his cornflakes', \"Diabetic, 30, claims she was 'just days from death' after her weight dropped to just 5st after cutting back on insulin in a desperate attempt to lose weight\", \"Student, 22, claims doctors labelled her 'SUPERFICIAL' for wanting scoliosis surgery to correct the 60 degree curve in her 'wonky' back\", 'Jaguar Land Rover moved 2,350 jobs to Slovakia with the help of £110m sweetener offered under EU rules before it axed 4,500 British workers', 'Son of former president of Guinea convicted with his wife of enslaving girl in their Texas home for 16 years after bringing her over from her African village', \"Venezuela's 'dictator' Maduro is shunned by world leaders and threatened with sanctions as he is inaugurated for his second term in office\", 'The REAL spacehopper! Elon Musk unveils his svelte 120-foot-tall Starship for the first time which he claims will make its first test flight within weeks', \"The letter that sparked the Napoleonic war! King George III's missive stating his intention to declare hostilities against Napoleon sells at auction for £11,430 (more than 11 times its original estimate!)\", \"'Uber for private jets' backed by Jay-Z and endorsed by Kim Kardashian is accused of scamming its rich and famous customers\", \"Nurse 'decapitates a baby while pulling too hard during a difficult birth' at a hospital in India\", \"Maternity label behind Meghan's $218 dress which counts Jessica Alba, Natalie Portman and Lily Aldridge among its fans gushes over the royal's outing - hailing it the 'best day ever'\", 'Law student who missed her flight embraces a four hour wait at the airport by dancing around the terminal- and even her cat joins in', \"Hilarious moment German shepherd tries walking in new snow boots for the first time - much to the owner's amusement\", \"'He's a murderer!' Penn Badgley shuts down Twitter users who admit they're attracted to the very creepy STALKER he plays in Netflix hit You\", \"'Tony Soprano DID die in final episode': Writer David Chase confirms tragic ending following years of debate over that cliffhanger finale\", \"Are your New Year's resolutions making you look common? Etiquette expert William Hanson reveals why 'virtue signalling' veganism is NOT in good taste (and how to cater for the meat-free dinner guest)\", \"Meet the cattle grid girls! Sexism row hits Britain's biggest tractor show after exhibitor hires two F1 style dancers to attract buyers to their farming stall\", \"Grieving software engineer spends four months creating a £12,000 jungle play area for his late brother's pet cats - complete with LED tribute to him\", 'Light-fingered! Brazen thief steals blue light from roof of police car and walks away laughing', 'Couple and their seven-year-old son have spent two years travelling the world in their converted 40-year-old military truck - and the pictures are jaw-dropping', \"Former Mr Universe competitor who has given up ALL food during the week in favor of drinking his own URINE insists he's in better shape than ever - and says it's cured his chronic pain\", \"Waitress at Michelin-starred restaurant is run over and killed 'by her chef colleague' while leaving a disco where they had been partying all night\", \"'Most of them are gay': Rodrigo Duterte calls on the Catholic Church to allow its 'useless' priests to have boyfriends\", \"Nissan chief Carlos Ghosn 'unlikely to be released' after being hit with two more financial misconduct charges by Japanese prosecutors\", \"Horrific moment vigilantes brand Mexican fuel thief on his back with the words 'for being a rat'\", 'Cocaine-addict mother-of-two, 40, who was jailed for scamming £372,163 from company to fund lavish lifestyle and luxury holidays admits embezzling £255,000 from ANOTHER firm', 'Prehistoric dogs the size of GRIZZLY BEARS lived 16 million years ago and hunted in the same way as modern-day foxes', 'Yellow vests are BANNED from marching in parts of France amid fears of violence and looting as police warn protests are gaining steam again as they enter their ninth week', \"Police search for man caught on CCTV 'stealing the blue lights from a marked patrol car'\", 'Grade I-listed Gothic mansion with wine cellar and cinema room which served as hospital for WWI officers goes on market for £11.5million', \"Transgender storm as men who self-identify as women are 'routinely' put on NHS hospital wards for females\", 'Lidl surprises supermarket rivals as it poaches £58million of Christmas food spend as shoppers gobble up its posh ranges', 'Brrr! My other ski suit is a snowkini: SARAH VINE shivers at the latest insane Instagram boast - posing in the snow wearing nothing but your bikini', \"TOM UTLEY: It's driving me potty - I'm due an oldies' health check... but what if it costs me my driving licence?\", \"Is this the future of parenting? 'Family tech' firms unveil a £235 breast massager and a pregnancy band that tracks your baby's heartbeat in the womb\", \"Could a Fitbit-style gadget REALLY replace The Pill? Makers of £249 'Ava' fertility tracking bracelets say a new setting will warn women against sex when they're most likely to conceive\", \"'Alexa, make my vibrator go insane': OhMiBod unveils Bluetooth sex toys that respond to voice commands and can buzz to the beat of the music - or even your partner's heartbeat\", \"The AI that will tell you how your face will age: Olay reveals app that can analyze your skin from a selfie and show you how you'll look in 20 years\", \"Could a $550 headset mean the end of diets? Meditation gadget claims to be able to 'train your brain' to choose healthy foods\", 'Spend the night in a plane... on the ground! Former aircraft is converted into a quirky £80-per-night hotel room', \"'Do not play beer pong with this man!': Guy shows off his incredible timing when he throws a dart with cup attached and lands a ping pong ball inside\", 'Troops of monkeys keep their feet warm and dry by walking along phone lines high above the snow in Japan', 'PAUL THOMAS on... Speaker Bercow', \"Ice-encrusted athletes compete in world's coldest race in temperatures of -61F in Russia - but nobody manages to finish it\", \"Kayaker captures breath-taking moment a pod of bottlenose dolphins chase herring to the water's surface in a feeding frenzy off the coast of Cornwall\", \"There is 'nothing inherently offensive' about white actors blacking up to play\\xa0 ethnic roles, says Simon Callow\", \"Incredible moment Chinese rocket carrying the country's new state of the art satellite takes off from Sichuan Province\", 'Shocking moment deer jumps two metres into the air and launches itself more than 10 metres across a snowy road straight in front of a car']\n"
     ]
    }
   ],
   "source": [
    "# Take out the <div> of name and get its value\n",
    "#soup.find for the 1st occurence\n",
    "#soup.findall for all of them\n",
    "'''\n",
    "<p class=\"pdp-estimate__price\">£494,000</p>\n",
    "<h2 class=\"linkro-darkred\">\n",
    "'''\n",
    "title_box = soup.findAll(\"h2\", class_= \"linkro-darkred\")  # change the p into h2\n",
    "print(title_box)\n",
    "\n",
    "title=[]\n",
    "for occurence in title_box:\n",
    "    title.append(occurence.text.strip()) # strip() is used to remove starting and trailing\n",
    "\n",
    "print(title)              "
   ]
  },
  {
   "cell_type": "code",
   "execution_count": null,
   "metadata": {},
   "outputs": [],
   "source": [
    "# Take out the <div> of name and get its value\n",
    "#soup.find for the 1st occurence\n",
    "#soup.findall for all of them\n",
    "'''\n",
    "<p class=\"js-public-info\">\n",
    "\n",
    "examples of boxes type\n",
    "<span class=\"blablabla\"> =      -> \"span\", class_=\"blablabla\"\n",
    "<a\n",
    "<div class=\n",
    "<section class=\n",
    "<h2 class=\n",
    "<h3 class=\n",
    "<h1 class=\n",
    "<p class=\n",
    "<main id=\"blablabla\"             -> \"main\", id_=\"blablabla\"\n",
    "'''\n",
    "desc_box = soup.findAll(\"p\", class_= \"js-public-info\")\n",
    "#print(desc_box)\n",
    "\n",
    "desc=[]\n",
    "for occurence in desc_box:\n",
    "    desc.append(occurence.text.strip()) # strip() is used to remove starting and trailing\n",
    "\n",
    "print(desc[0])      \n",
    "if \"1 bed\" in desc[0]: print(\"it's a one-bedroom\")"
   ]
  },
  {
   "cell_type": "code",
   "execution_count": null,
   "metadata": {},
   "outputs": [],
   "source": [
    "# Take out the <div> of name and get its value\n",
    "#soup.find for the 1st occurence\n",
    "#soup.findall for all of them\n",
    "\n",
    "link_box = soup.findAll(\"a\")\n",
    "#print(title_box)\n",
    "link=[]\n",
    "for occurence in link_box:\n",
    "    link.append(occurence.get('href')) # strip() is used to remove starting and trailing\n",
    "\n",
    "print(link)     "
   ]
  },
  {
   "cell_type": "code",
   "execution_count": 38,
   "metadata": {},
   "outputs": [],
   "source": [
    "List = [1,4,9,16,25,36,49,64,81,100]\n"
   ]
  },
  {
   "cell_type": "code",
   "execution_count": 36,
   "metadata": {},
   "outputs": [
    {
     "name": "stdout",
     "output_type": "stream",
     "text": [
      "[4, 16, 36, 64, 100]\n"
     ]
    }
   ],
   "source": [
    "# Only even numbers\n",
    "\n",
    "even= []\n",
    "for x in List:\n",
    "    if x % 2 == 0:even.append(x)\n",
    "    \n",
    "print(even)"
   ]
  },
  {
   "cell_type": "code",
   "execution_count": 41,
   "metadata": {},
   "outputs": [
    {
     "name": "stdout",
     "output_type": "stream",
     "text": [
      "[2.0, 8.0, 18.0, 32.0, 50.0]\n"
     ]
    }
   ],
   "source": [
    "#advance formular\n",
    "\n",
    "even = []\n",
    "even = [x/2 for x in List if x % 2 ==0]\n",
    "print(even)"
   ]
  }
 ],
 "metadata": {
  "kernelspec": {
   "display_name": "Python 3",
   "language": "python",
   "name": "python3"
  },
  "language_info": {
   "codemirror_mode": {
    "name": "ipython",
    "version": 3
   },
   "file_extension": ".py",
   "mimetype": "text/x-python",
   "name": "python",
   "nbconvert_exporter": "python",
   "pygments_lexer": "ipython3",
   "version": "3.7.0"
  }
 },
 "nbformat": 4,
 "nbformat_minor": 2
}
